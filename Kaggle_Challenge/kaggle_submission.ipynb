{
 "cells": [
  {
   "cell_type": "code",
   "execution_count": 1,
   "metadata": {
    "_cell_guid": "b1076dfc-b9ad-4769-8c92-a6c4dae69d19",
    "_uuid": "8f2839f25d086af736a60e9eeb907d3b93b6e0e5",
    "execution": {
     "iopub.execute_input": "2020-09-13T08:54:11.421705Z",
     "iopub.status.busy": "2020-09-13T08:54:11.420868Z",
     "iopub.status.idle": "2020-09-13T08:54:13.354115Z",
     "shell.execute_reply": "2020-09-13T08:54:13.353386Z"
    },
    "papermill": {
     "duration": 1.957968,
     "end_time": "2020-09-13T08:54:13.354274",
     "exception": false,
     "start_time": "2020-09-13T08:54:11.396306",
     "status": "completed"
    },
    "tags": []
   },
   "outputs": [],
   "source": [
    "import numpy as np # linear algebra\n",
    "import pandas as pd # data processing, CSV file I/O (e.g. pd.read_csv)\n",
    "import os\n",
    "import re\n",
    "import nltk"
   ]
  },
  {
   "cell_type": "code",
   "execution_count": 2,
   "metadata": {
    "execution": {
     "iopub.execute_input": "2020-09-13T08:54:13.405513Z",
     "iopub.status.busy": "2020-09-13T08:54:13.404752Z",
     "iopub.status.idle": "2020-09-13T08:54:13.574209Z",
     "shell.execute_reply": "2020-09-13T08:54:13.573378Z"
    },
    "papermill": {
     "duration": 0.20257,
     "end_time": "2020-09-13T08:54:13.574343",
     "exception": false,
     "start_time": "2020-09-13T08:54:13.371773",
     "status": "completed"
    },
    "tags": []
   },
   "outputs": [],
   "source": [
    "train = pd.read_csv(\"../input/sentiment-analysis-msa-phase-2/train.csv\")\n",
    "train.dropna(subset = ['text'], inplace = True)"
   ]
  },
  {
   "cell_type": "code",
   "execution_count": 3,
   "metadata": {
    "execution": {
     "iopub.execute_input": "2020-09-13T08:54:13.641897Z",
     "iopub.status.busy": "2020-09-13T08:54:13.620943Z",
     "iopub.status.idle": "2020-09-13T08:54:13.899811Z",
     "shell.execute_reply": "2020-09-13T08:54:13.900435Z"
    },
    "papermill": {
     "duration": 0.30901,
     "end_time": "2020-09-13T08:54:13.900619",
     "exception": false,
     "start_time": "2020-09-13T08:54:13.591609",
     "status": "completed"
    },
    "tags": []
   },
   "outputs": [],
   "source": [
    "train.text = train.text.apply(lambda x: re.sub(r'\\(?http\\S+', '', x))\n",
    "train.text = train.text.apply(lambda x: re.sub(r'[^\\w\\s]', '', x))"
   ]
  },
  {
   "cell_type": "code",
   "execution_count": 4,
   "metadata": {
    "execution": {
     "iopub.execute_input": "2020-09-13T08:54:13.942577Z",
     "iopub.status.busy": "2020-09-13T08:54:13.941835Z",
     "iopub.status.idle": "2020-09-13T08:54:20.722883Z",
     "shell.execute_reply": "2020-09-13T08:54:20.722202Z"
    },
    "papermill": {
     "duration": 6.80513,
     "end_time": "2020-09-13T08:54:20.723026",
     "exception": false,
     "start_time": "2020-09-13T08:54:13.917896",
     "status": "completed"
    },
    "tags": []
   },
   "outputs": [],
   "source": [
    "from nltk.corpus import stopwords\n",
    "stopwords = stopwords.words('english')\n",
    "train.text = train.text.apply(lambda x: ' '.join([word for word in nltk.word_tokenize(x) if word.lower() not in stopwords]))"
   ]
  },
  {
   "cell_type": "code",
   "execution_count": 5,
   "metadata": {
    "execution": {
     "iopub.execute_input": "2020-09-13T08:54:20.766390Z",
     "iopub.status.busy": "2020-09-13T08:54:20.765553Z",
     "iopub.status.idle": "2020-09-13T08:54:29.606408Z",
     "shell.execute_reply": "2020-09-13T08:54:29.605632Z"
    },
    "papermill": {
     "duration": 8.865838,
     "end_time": "2020-09-13T08:54:29.606559",
     "exception": false,
     "start_time": "2020-09-13T08:54:20.740721",
     "status": "completed"
    },
    "tags": []
   },
   "outputs": [],
   "source": [
    "lemmatizer = nltk.WordNetLemmatizer()\n",
    "train.text = train.text.apply(lambda x: ' '.join([lemmatizer.lemmatize(word) for word in nltk.word_tokenize(x)]))"
   ]
  },
  {
   "cell_type": "code",
   "execution_count": 6,
   "metadata": {
    "execution": {
     "iopub.execute_input": "2020-09-13T08:54:29.648024Z",
     "iopub.status.busy": "2020-09-13T08:54:29.647210Z",
     "iopub.status.idle": "2020-09-13T08:54:29.654716Z",
     "shell.execute_reply": "2020-09-13T08:54:29.654042Z"
    },
    "papermill": {
     "duration": 0.0306,
     "end_time": "2020-09-13T08:54:29.654844",
     "exception": false,
     "start_time": "2020-09-13T08:54:29.624244",
     "status": "completed"
    },
    "tags": []
   },
   "outputs": [],
   "source": [
    "from sklearn.model_selection import train_test_split\n",
    "from sklearn.feature_extraction.text import CountVectorizer, TfidfVectorizer\n",
    "from sklearn.naive_bayes import MultinomialNB, GaussianNB\n",
    "from sklearn import metrics"
   ]
  },
  {
   "cell_type": "code",
   "execution_count": 7,
   "metadata": {
    "execution": {
     "iopub.execute_input": "2020-09-13T08:54:29.697649Z",
     "iopub.status.busy": "2020-09-13T08:54:29.696567Z",
     "iopub.status.idle": "2020-09-13T08:54:29.700106Z",
     "shell.execute_reply": "2020-09-13T08:54:29.699369Z"
    },
    "papermill": {
     "duration": 0.026182,
     "end_time": "2020-09-13T08:54:29.700229",
     "exception": false,
     "start_time": "2020-09-13T08:54:29.674047",
     "status": "completed"
    },
    "tags": []
   },
   "outputs": [],
   "source": [
    "vectorizer = CountVectorizer()"
   ]
  },
  {
   "cell_type": "code",
   "execution_count": 8,
   "metadata": {
    "execution": {
     "iopub.execute_input": "2020-09-13T08:54:29.748512Z",
     "iopub.status.busy": "2020-09-13T08:54:29.747692Z",
     "iopub.status.idle": "2020-09-13T08:54:30.279987Z",
     "shell.execute_reply": "2020-09-13T08:54:30.279275Z"
    },
    "papermill": {
     "duration": 0.561848,
     "end_time": "2020-09-13T08:54:30.280120",
     "exception": false,
     "start_time": "2020-09-13T08:54:29.718272",
     "status": "completed"
    },
    "tags": []
   },
   "outputs": [],
   "source": [
    "train.dropna(subset=['text'], inplace=True)\n",
    "X = vectorizer.fit_transform(train.text)"
   ]
  },
  {
   "cell_type": "code",
   "execution_count": 9,
   "metadata": {
    "execution": {
     "iopub.execute_input": "2020-09-13T08:54:30.431836Z",
     "iopub.status.busy": "2020-09-13T08:54:30.350158Z",
     "iopub.status.idle": "2020-09-13T08:54:30.491762Z",
     "shell.execute_reply": "2020-09-13T08:54:30.490811Z"
    },
    "papermill": {
     "duration": 0.193719,
     "end_time": "2020-09-13T08:54:30.491915",
     "exception": false,
     "start_time": "2020-09-13T08:54:30.298196",
     "status": "completed"
    },
    "tags": []
   },
   "outputs": [
    {
     "data": {
      "text/plain": [
       "MultinomialNB()"
      ]
     },
     "execution_count": 9,
     "metadata": {},
     "output_type": "execute_result"
    }
   ],
   "source": [
    "nb = MultinomialNB()\n",
    "\n",
    "#nb.fit(features_matrix, item_we_want_to_predict)\n",
    "nb.fit(X, train.sentiment)"
   ]
  },
  {
   "cell_type": "code",
   "execution_count": 10,
   "metadata": {
    "execution": {
     "iopub.execute_input": "2020-09-13T08:54:30.543240Z",
     "iopub.status.busy": "2020-09-13T08:54:30.542402Z",
     "iopub.status.idle": "2020-09-13T08:54:30.587350Z",
     "shell.execute_reply": "2020-09-13T08:54:30.586574Z"
    },
    "papermill": {
     "duration": 0.076003,
     "end_time": "2020-09-13T08:54:30.587475",
     "exception": false,
     "start_time": "2020-09-13T08:54:30.511472",
     "status": "completed"
    },
    "tags": []
   },
   "outputs": [
    {
     "data": {
      "text/html": [
       "<div>\n",
       "<style scoped>\n",
       "    .dataframe tbody tr th:only-of-type {\n",
       "        vertical-align: middle;\n",
       "    }\n",
       "\n",
       "    .dataframe tbody tr th {\n",
       "        vertical-align: top;\n",
       "    }\n",
       "\n",
       "    .dataframe thead th {\n",
       "        text-align: right;\n",
       "    }\n",
       "</style>\n",
       "<table border=\"1\" class=\"dataframe\">\n",
       "  <thead>\n",
       "    <tr style=\"text-align: right;\">\n",
       "      <th></th>\n",
       "      <th>textID</th>\n",
       "      <th>text</th>\n",
       "    </tr>\n",
       "  </thead>\n",
       "  <tbody>\n",
       "    <tr>\n",
       "      <th>0</th>\n",
       "      <td>f87dea47db</td>\n",
       "      <td>Last session of the day  http://twitpic.com/67ezh</td>\n",
       "    </tr>\n",
       "    <tr>\n",
       "      <th>1</th>\n",
       "      <td>96d74cb729</td>\n",
       "      <td>Shanghai is also really exciting (precisely -...</td>\n",
       "    </tr>\n",
       "    <tr>\n",
       "      <th>2</th>\n",
       "      <td>eee518ae67</td>\n",
       "      <td>Recession hit Veronique Branquinho, she has to...</td>\n",
       "    </tr>\n",
       "    <tr>\n",
       "      <th>3</th>\n",
       "      <td>01082688c6</td>\n",
       "      <td>happy bday!</td>\n",
       "    </tr>\n",
       "    <tr>\n",
       "      <th>4</th>\n",
       "      <td>33987a8ee5</td>\n",
       "      <td>http://twitpic.com/4w75p - I like it!!</td>\n",
       "    </tr>\n",
       "    <tr>\n",
       "      <th>5</th>\n",
       "      <td>726e501993</td>\n",
       "      <td>that`s great!! weee!! visitors!</td>\n",
       "    </tr>\n",
       "    <tr>\n",
       "      <th>6</th>\n",
       "      <td>261932614e</td>\n",
       "      <td>I THINK EVERYONE HATES ME ON HERE   lol</td>\n",
       "    </tr>\n",
       "    <tr>\n",
       "      <th>7</th>\n",
       "      <td>afa11da83f</td>\n",
       "      <td>soooooo wish i could, but im in school and my...</td>\n",
       "    </tr>\n",
       "    <tr>\n",
       "      <th>8</th>\n",
       "      <td>e64208b4ef</td>\n",
       "      <td>and within a short time of the last clue all ...</td>\n",
       "    </tr>\n",
       "    <tr>\n",
       "      <th>9</th>\n",
       "      <td>37bcad24ca</td>\n",
       "      <td>What did you get?  My day is alright.. haven`...</td>\n",
       "    </tr>\n",
       "  </tbody>\n",
       "</table>\n",
       "</div>"
      ],
      "text/plain": [
       "       textID                                               text\n",
       "0  f87dea47db  Last session of the day  http://twitpic.com/67ezh\n",
       "1  96d74cb729   Shanghai is also really exciting (precisely -...\n",
       "2  eee518ae67  Recession hit Veronique Branquinho, she has to...\n",
       "3  01082688c6                                        happy bday!\n",
       "4  33987a8ee5             http://twitpic.com/4w75p - I like it!!\n",
       "5  726e501993                    that`s great!! weee!! visitors!\n",
       "6  261932614e            I THINK EVERYONE HATES ME ON HERE   lol\n",
       "7  afa11da83f   soooooo wish i could, but im in school and my...\n",
       "8  e64208b4ef   and within a short time of the last clue all ...\n",
       "9  37bcad24ca   What did you get?  My day is alright.. haven`..."
      ]
     },
     "execution_count": 10,
     "metadata": {},
     "output_type": "execute_result"
    }
   ],
   "source": [
    "test = pd.read_csv('../input/sentiment-analysis-msa-phase-2/test.csv')\n",
    "test.dropna(subset=['text'], inplace=True)\n",
    "test.head(10)"
   ]
  },
  {
   "cell_type": "code",
   "execution_count": 11,
   "metadata": {
    "execution": {
     "iopub.execute_input": "2020-09-13T08:54:30.657060Z",
     "iopub.status.busy": "2020-09-13T08:54:30.648050Z",
     "iopub.status.idle": "2020-09-13T08:54:30.660198Z",
     "shell.execute_reply": "2020-09-13T08:54:30.660795Z"
    },
    "papermill": {
     "duration": 0.053696,
     "end_time": "2020-09-13T08:54:30.660969",
     "exception": false,
     "start_time": "2020-09-13T08:54:30.607273",
     "status": "completed"
    },
    "tags": []
   },
   "outputs": [],
   "source": [
    "test.text = test.text.apply(lambda x: re.sub(r'[^\\w\\s]', '', x) )"
   ]
  },
  {
   "cell_type": "code",
   "execution_count": 12,
   "metadata": {
    "execution": {
     "iopub.execute_input": "2020-09-13T08:54:30.744128Z",
     "iopub.status.busy": "2020-09-13T08:54:30.738974Z",
     "iopub.status.idle": "2020-09-13T08:54:31.584600Z",
     "shell.execute_reply": "2020-09-13T08:54:31.585205Z"
    },
    "papermill": {
     "duration": 0.90429,
     "end_time": "2020-09-13T08:54:31.585378",
     "exception": false,
     "start_time": "2020-09-13T08:54:30.681088",
     "status": "completed"
    },
    "tags": []
   },
   "outputs": [],
   "source": [
    "test.text = test.text.apply(lambda x: ' '.join([word for word in nltk.word_tokenize(x) if word.lower() not in stopwords]))"
   ]
  },
  {
   "cell_type": "code",
   "execution_count": 13,
   "metadata": {
    "execution": {
     "iopub.execute_input": "2020-09-13T08:54:31.644815Z",
     "iopub.status.busy": "2020-09-13T08:54:31.643953Z",
     "iopub.status.idle": "2020-09-13T08:54:31.647928Z",
     "shell.execute_reply": "2020-09-13T08:54:31.647264Z"
    },
    "papermill": {
     "duration": 0.04254,
     "end_time": "2020-09-13T08:54:31.648051",
     "exception": false,
     "start_time": "2020-09-13T08:54:31.605511",
     "status": "completed"
    },
    "tags": []
   },
   "outputs": [],
   "source": [
    "test.text = test.text.apply(lambda x: re.sub(r'\\(?http\\S+', '', x))"
   ]
  },
  {
   "cell_type": "code",
   "execution_count": 14,
   "metadata": {
    "execution": {
     "iopub.execute_input": "2020-09-13T08:54:31.768042Z",
     "iopub.status.busy": "2020-09-13T08:54:31.731448Z",
     "iopub.status.idle": "2020-09-13T08:54:32.501752Z",
     "shell.execute_reply": "2020-09-13T08:54:32.501078Z"
    },
    "papermill": {
     "duration": 0.833923,
     "end_time": "2020-09-13T08:54:32.501894",
     "exception": false,
     "start_time": "2020-09-13T08:54:31.667971",
     "status": "completed"
    },
    "tags": []
   },
   "outputs": [],
   "source": [
    "lemmatizer = nltk.WordNetLemmatizer()\n",
    "test.text = test.text.apply(lambda x: ' '.join([lemmatizer.lemmatize(word) for word in nltk.word_tokenize(x)]))"
   ]
  },
  {
   "cell_type": "code",
   "execution_count": 15,
   "metadata": {
    "execution": {
     "iopub.execute_input": "2020-09-13T08:54:32.572706Z",
     "iopub.status.busy": "2020-09-13T08:54:32.557100Z",
     "iopub.status.idle": "2020-09-13T08:54:32.610540Z",
     "shell.execute_reply": "2020-09-13T08:54:32.609710Z"
    },
    "papermill": {
     "duration": 0.087811,
     "end_time": "2020-09-13T08:54:32.610685",
     "exception": false,
     "start_time": "2020-09-13T08:54:32.522874",
     "status": "completed"
    },
    "tags": []
   },
   "outputs": [],
   "source": [
    "test_count = vectorizer.transform(test.text)\n",
    "predicted = nb.predict(test_count)"
   ]
  },
  {
   "cell_type": "code",
   "execution_count": 16,
   "metadata": {
    "execution": {
     "iopub.execute_input": "2020-09-13T08:54:32.657850Z",
     "iopub.status.busy": "2020-09-13T08:54:32.656823Z",
     "iopub.status.idle": "2020-09-13T08:54:32.661515Z",
     "shell.execute_reply": "2020-09-13T08:54:32.660909Z"
    },
    "papermill": {
     "duration": 0.030343,
     "end_time": "2020-09-13T08:54:32.661663",
     "exception": false,
     "start_time": "2020-09-13T08:54:32.631320",
     "status": "completed"
    },
    "tags": []
   },
   "outputs": [
    {
     "data": {
      "text/plain": [
       "array(['positive', 'positive', 'negative', ..., 'negative', 'positive',\n",
       "       'neutral'], dtype='<U8')"
      ]
     },
     "execution_count": 16,
     "metadata": {},
     "output_type": "execute_result"
    }
   ],
   "source": [
    "predicted"
   ]
  },
  {
   "cell_type": "code",
   "execution_count": 17,
   "metadata": {
    "execution": {
     "iopub.execute_input": "2020-09-13T08:54:32.710184Z",
     "iopub.status.busy": "2020-09-13T08:54:32.708799Z",
     "iopub.status.idle": "2020-09-13T08:54:32.713510Z",
     "shell.execute_reply": "2020-09-13T08:54:32.712882Z"
    },
    "papermill": {
     "duration": 0.031034,
     "end_time": "2020-09-13T08:54:32.713700",
     "exception": false,
     "start_time": "2020-09-13T08:54:32.682666",
     "status": "completed"
    },
    "tags": []
   },
   "outputs": [],
   "source": [
    "test['sentiment'] = predicted"
   ]
  },
  {
   "cell_type": "code",
   "execution_count": 18,
   "metadata": {
    "execution": {
     "iopub.execute_input": "2020-09-13T08:54:32.769443Z",
     "iopub.status.busy": "2020-09-13T08:54:32.768466Z",
     "iopub.status.idle": "2020-09-13T08:54:32.772610Z",
     "shell.execute_reply": "2020-09-13T08:54:32.773211Z"
    },
    "papermill": {
     "duration": 0.038437,
     "end_time": "2020-09-13T08:54:32.773368",
     "exception": false,
     "start_time": "2020-09-13T08:54:32.734931",
     "status": "completed"
    },
    "tags": []
   },
   "outputs": [
    {
     "data": {
      "text/html": [
       "<div>\n",
       "<style scoped>\n",
       "    .dataframe tbody tr th:only-of-type {\n",
       "        vertical-align: middle;\n",
       "    }\n",
       "\n",
       "    .dataframe tbody tr th {\n",
       "        vertical-align: top;\n",
       "    }\n",
       "\n",
       "    .dataframe thead th {\n",
       "        text-align: right;\n",
       "    }\n",
       "</style>\n",
       "<table border=\"1\" class=\"dataframe\">\n",
       "  <thead>\n",
       "    <tr style=\"text-align: right;\">\n",
       "      <th></th>\n",
       "      <th>textID</th>\n",
       "      <th>text</th>\n",
       "      <th>sentiment</th>\n",
       "    </tr>\n",
       "  </thead>\n",
       "  <tbody>\n",
       "    <tr>\n",
       "      <th>0</th>\n",
       "      <td>f87dea47db</td>\n",
       "      <td>Last session day</td>\n",
       "      <td>positive</td>\n",
       "    </tr>\n",
       "    <tr>\n",
       "      <th>1</th>\n",
       "      <td>96d74cb729</td>\n",
       "      <td>Shanghai also really exciting precisely skyscr...</td>\n",
       "      <td>positive</td>\n",
       "    </tr>\n",
       "    <tr>\n",
       "      <th>2</th>\n",
       "      <td>eee518ae67</td>\n",
       "      <td>Recession hit Veronique Branquinho quit compan...</td>\n",
       "      <td>negative</td>\n",
       "    </tr>\n",
       "    <tr>\n",
       "      <th>3</th>\n",
       "      <td>01082688c6</td>\n",
       "      <td>happy bday</td>\n",
       "      <td>positive</td>\n",
       "    </tr>\n",
       "    <tr>\n",
       "      <th>4</th>\n",
       "      <td>33987a8ee5</td>\n",
       "      <td>like</td>\n",
       "      <td>neutral</td>\n",
       "    </tr>\n",
       "  </tbody>\n",
       "</table>\n",
       "</div>"
      ],
      "text/plain": [
       "       textID                                               text sentiment\n",
       "0  f87dea47db                                   Last session day  positive\n",
       "1  96d74cb729  Shanghai also really exciting precisely skyscr...  positive\n",
       "2  eee518ae67  Recession hit Veronique Branquinho quit compan...  negative\n",
       "3  01082688c6                                         happy bday  positive\n",
       "4  33987a8ee5                                               like   neutral"
      ]
     },
     "execution_count": 18,
     "metadata": {},
     "output_type": "execute_result"
    }
   ],
   "source": [
    "test.head()"
   ]
  },
  {
   "cell_type": "code",
   "execution_count": 19,
   "metadata": {
    "execution": {
     "iopub.execute_input": "2020-09-13T08:54:32.831847Z",
     "iopub.status.busy": "2020-09-13T08:54:32.830944Z",
     "iopub.status.idle": "2020-09-13T08:54:32.835316Z",
     "shell.execute_reply": "2020-09-13T08:54:32.834708Z"
    },
    "papermill": {
     "duration": 0.039514,
     "end_time": "2020-09-13T08:54:32.835455",
     "exception": false,
     "start_time": "2020-09-13T08:54:32.795941",
     "status": "completed"
    },
    "tags": []
   },
   "outputs": [
    {
     "data": {
      "text/html": [
       "<div>\n",
       "<style scoped>\n",
       "    .dataframe tbody tr th:only-of-type {\n",
       "        vertical-align: middle;\n",
       "    }\n",
       "\n",
       "    .dataframe tbody tr th {\n",
       "        vertical-align: top;\n",
       "    }\n",
       "\n",
       "    .dataframe thead th {\n",
       "        text-align: right;\n",
       "    }\n",
       "</style>\n",
       "<table border=\"1\" class=\"dataframe\">\n",
       "  <thead>\n",
       "    <tr style=\"text-align: right;\">\n",
       "      <th></th>\n",
       "      <th>textID</th>\n",
       "      <th>sentiment</th>\n",
       "    </tr>\n",
       "  </thead>\n",
       "  <tbody>\n",
       "    <tr>\n",
       "      <th>0</th>\n",
       "      <td>f87dea47db</td>\n",
       "      <td>positive</td>\n",
       "    </tr>\n",
       "    <tr>\n",
       "      <th>1</th>\n",
       "      <td>96d74cb729</td>\n",
       "      <td>positive</td>\n",
       "    </tr>\n",
       "    <tr>\n",
       "      <th>2</th>\n",
       "      <td>eee518ae67</td>\n",
       "      <td>negative</td>\n",
       "    </tr>\n",
       "    <tr>\n",
       "      <th>3</th>\n",
       "      <td>01082688c6</td>\n",
       "      <td>positive</td>\n",
       "    </tr>\n",
       "    <tr>\n",
       "      <th>4</th>\n",
       "      <td>33987a8ee5</td>\n",
       "      <td>neutral</td>\n",
       "    </tr>\n",
       "  </tbody>\n",
       "</table>\n",
       "</div>"
      ],
      "text/plain": [
       "       textID sentiment\n",
       "0  f87dea47db  positive\n",
       "1  96d74cb729  positive\n",
       "2  eee518ae67  negative\n",
       "3  01082688c6  positive\n",
       "4  33987a8ee5   neutral"
      ]
     },
     "execution_count": 19,
     "metadata": {},
     "output_type": "execute_result"
    }
   ],
   "source": [
    "test = test.drop(['text'], axis = 1)\n",
    "test.head()"
   ]
  },
  {
   "cell_type": "code",
   "execution_count": 20,
   "metadata": {
    "execution": {
     "iopub.execute_input": "2020-09-13T08:54:32.887444Z",
     "iopub.status.busy": "2020-09-13T08:54:32.886643Z",
     "iopub.status.idle": "2020-09-13T08:54:33.211670Z",
     "shell.execute_reply": "2020-09-13T08:54:33.210910Z"
    },
    "papermill": {
     "duration": 0.353058,
     "end_time": "2020-09-13T08:54:33.211823",
     "exception": false,
     "start_time": "2020-09-13T08:54:32.858765",
     "status": "completed"
    },
    "tags": []
   },
   "outputs": [],
   "source": [
    "test.to_csv(\"submission.csv\", index = False)"
   ]
  },
  {
   "cell_type": "code",
   "execution_count": null,
   "metadata": {
    "papermill": {
     "duration": 0.022612,
     "end_time": "2020-09-13T08:54:33.258390",
     "exception": false,
     "start_time": "2020-09-13T08:54:33.235778",
     "status": "completed"
    },
    "tags": []
   },
   "outputs": [],
   "source": []
  }
 ],
 "metadata": {
  "kernelspec": {
   "display_name": "Python 3",
   "language": "python",
   "name": "python3"
  },
  "language_info": {
   "codemirror_mode": {
    "name": "ipython",
    "version": 3
   },
   "file_extension": ".py",
   "mimetype": "text/x-python",
   "name": "python",
   "nbconvert_exporter": "python",
   "pygments_lexer": "ipython3",
   "version": "3.7.6"
  },
  "papermill": {
   "duration": 27.300712,
   "end_time": "2020-09-13T08:54:33.389773",
   "environment_variables": {},
   "exception": null,
   "input_path": "__notebook__.ipynb",
   "output_path": "__notebook__.ipynb",
   "parameters": {},
   "start_time": "2020-09-13T08:54:06.089061",
   "version": "2.1.0"
  }
 },
 "nbformat": 4,
 "nbformat_minor": 4
}
