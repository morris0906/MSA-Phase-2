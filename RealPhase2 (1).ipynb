{
  "nbformat": 4,
  "nbformat_minor": 0,
  "metadata": {
    "colab": {
      "name": "RealPhase2.ipynb",
      "provenance": [],
      "collapsed_sections": []
    },
    "kernelspec": {
      "name": "python3",
      "display_name": "Python 3"
    }
  },
  "cells": [
    {
      "cell_type": "code",
      "metadata": {
        "id": "pAod7zq1FJA9",
        "colab_type": "code",
        "colab": {}
      },
      "source": [
        "import datetime\n",
        "import numpy as np\n",
        "import pandas as pd\n",
        "from keys import *\n",
        "from api_funcs import *"
      ],
      "execution_count": 611,
      "outputs": []
    },
    {
      "cell_type": "code",
      "metadata": {
        "id": "2uDDxChWFSSl",
        "colab_type": "code",
        "colab": {}
      },
      "source": [
        "reddit = praw.Reddit( client_id=client_id, client_secret=client_secret, user_agent='android:my_app:v1 (by /u/randomaucklander)')"
      ],
      "execution_count": 612,
      "outputs": []
    },
    {
      "cell_type": "code",
      "metadata": {
        "id": "j2huQX9jF7sG",
        "colab_type": "code",
        "colab": {}
      },
      "source": [
        "UoA = reddit.subreddit(\"universityofauckland\")"
      ],
      "execution_count": 613,
      "outputs": []
    },
    {
      "cell_type": "code",
      "metadata": {
        "id": "cjB8NVODJVZG",
        "colab_type": "code",
        "colab": {}
      },
      "source": [
        "posts = []\n",
        "for index, post in enumerate(UoA.top(time_filter = 'week', limit=500)):\n",
        "  posts.append([post.title, \"https://www.reddit.com\" + post.permalink, post.selftext, post.score, post.created_utc, index])\n",
        "posts = pd.DataFrame(posts, columns=['Title', 'URL', 'Body', 'Upvotes', 'Time', 'Key'])\n",
        "posts.Time = posts.Time.apply(lambda x: pd.to_datetime(datetime.datetime.fromtimestamp(x)))"
      ],
      "execution_count": 614,
      "outputs": []
    },
    {
      "cell_type": "code",
      "metadata": {
        "id": "GSx3SDf6Joad",
        "colab_type": "code",
        "colab": {
          "base_uri": "https://localhost:8080/",
          "height": 204
        },
        "outputId": "fee006c7-cc74-4a9d-ce12-c965fb2e72fc"
      },
      "source": [
        "posts.head()"
      ],
      "execution_count": 615,
      "outputs": [
        {
          "output_type": "execute_result",
          "data": {
            "text/html": [
              "<div>\n",
              "<style scoped>\n",
              "    .dataframe tbody tr th:only-of-type {\n",
              "        vertical-align: middle;\n",
              "    }\n",
              "\n",
              "    .dataframe tbody tr th {\n",
              "        vertical-align: top;\n",
              "    }\n",
              "\n",
              "    .dataframe thead th {\n",
              "        text-align: right;\n",
              "    }\n",
              "</style>\n",
              "<table border=\"1\" class=\"dataframe\">\n",
              "  <thead>\n",
              "    <tr style=\"text-align: right;\">\n",
              "      <th></th>\n",
              "      <th>Title</th>\n",
              "      <th>URL</th>\n",
              "      <th>Body</th>\n",
              "      <th>Upvotes</th>\n",
              "      <th>Time</th>\n",
              "      <th>Key</th>\n",
              "    </tr>\n",
              "  </thead>\n",
              "  <tbody>\n",
              "    <tr>\n",
              "      <th>0</th>\n",
              "      <td>Quick Summary of the Latest Email for Those Wh...</td>\n",
              "      <td>https://www.reddit.com/r/universityofauckland/...</td>\n",
              "      <td></td>\n",
              "      <td>277</td>\n",
              "      <td>2020-09-14 09:54:00</td>\n",
              "      <td>0</td>\n",
              "    </tr>\n",
              "    <tr>\n",
              "      <th>1</th>\n",
              "      <td>Daddy Bloomfield out here hustlin for students 😍</td>\n",
              "      <td>https://www.reddit.com/r/universityofauckland/...</td>\n",
              "      <td></td>\n",
              "      <td>211</td>\n",
              "      <td>2020-09-16 03:34:22</td>\n",
              "      <td>1</td>\n",
              "    </tr>\n",
              "    <tr>\n",
              "      <th>2</th>\n",
              "      <td>\"So Dawn, where did the idea for a $50 compass...</td>\n",
              "      <td>https://www.reddit.com/r/universityofauckland/...</td>\n",
              "      <td></td>\n",
              "      <td>190</td>\n",
              "      <td>2020-09-15 01:08:37</td>\n",
              "      <td>2</td>\n",
              "    </tr>\n",
              "    <tr>\n",
              "      <th>3</th>\n",
              "      <td>Credit to Shaun Price for the joke</td>\n",
              "      <td>https://www.reddit.com/r/universityofauckland/...</td>\n",
              "      <td></td>\n",
              "      <td>182</td>\n",
              "      <td>2020-09-15 05:20:11</td>\n",
              "      <td>3</td>\n",
              "    </tr>\n",
              "    <tr>\n",
              "      <th>4</th>\n",
              "      <td>Unfair Examinations</td>\n",
              "      <td>https://www.reddit.com/r/universityofauckland/...</td>\n",
              "      <td>Hi everyone,\\n\\nMy friend told me that for off...</td>\n",
              "      <td>127</td>\n",
              "      <td>2020-09-15 08:51:21</td>\n",
              "      <td>4</td>\n",
              "    </tr>\n",
              "  </tbody>\n",
              "</table>\n",
              "</div>"
            ],
            "text/plain": [
              "                                               Title  ... Key\n",
              "0  Quick Summary of the Latest Email for Those Wh...  ...   0\n",
              "1   Daddy Bloomfield out here hustlin for students 😍  ...   1\n",
              "2  \"So Dawn, where did the idea for a $50 compass...  ...   2\n",
              "3                 Credit to Shaun Price for the joke  ...   3\n",
              "4                                Unfair Examinations  ...   4\n",
              "\n",
              "[5 rows x 6 columns]"
            ]
          },
          "metadata": {
            "tags": []
          },
          "execution_count": 615
        }
      ]
    },
    {
      "cell_type": "code",
      "metadata": {
        "id": "V9Kc96hDKNfl",
        "colab_type": "code",
        "colab": {}
      },
      "source": [
        "def collect_replies(key, url):\n",
        "    submission = reddit.submission(url=url)\n",
        "    submission.comments.replace_more(limit=None)\n",
        "    comment_queue = submission.comments[:] \n",
        "\n",
        "    table = {'Reply':[], 'Upvote':[], 'Time':[], 'Key':[]}\n",
        "\n",
        "    while comment_queue:\n",
        "        comment = comment_queue.pop(0)\n",
        "        table['Reply'].append(comment.body)\n",
        "        table['Time'].append(comment.created_utc)\n",
        "        table['Upvote'].append(comment.score)\n",
        "        table['Key'].append(key)\n",
        "        comment_queue.extend(comment.replies)\n",
        "    \n",
        "    return pd.DataFrame.from_dict(table)"
      ],
      "execution_count": 616,
      "outputs": []
    },
    {
      "cell_type": "code",
      "metadata": {
        "id": "0yJ2XhTbKRtK",
        "colab_type": "code",
        "colab": {}
      },
      "source": [
        "keys = posts.Key.tolist()\n",
        "urls = posts.URL.tolist()\n",
        "tupules = list(zip(keys, urls))"
      ],
      "execution_count": 617,
      "outputs": []
    },
    {
      "cell_type": "code",
      "metadata": {
        "id": "ImN_t72xKVHT",
        "colab_type": "code",
        "colab": {}
      },
      "source": [
        "comments = pd.concat([collect_replies(x[0], x[1]) for x in tupules])"
      ],
      "execution_count": 618,
      "outputs": []
    },
    {
      "cell_type": "code",
      "metadata": {
        "id": "CzpRemhcKXDS",
        "colab_type": "code",
        "colab": {}
      },
      "source": [
        "comments.Time = comments.Time.apply(lambda x: pd.to_datetime(datetime.datetime.fromtimestamp(x)))"
      ],
      "execution_count": 619,
      "outputs": []
    },
    {
      "cell_type": "code",
      "metadata": {
        "id": "w7M0wNH7Kco9",
        "colab_type": "code",
        "colab": {
          "base_uri": "https://localhost:8080/",
          "height": 204
        },
        "outputId": "2aeda273-84be-4652-9bea-be4130ea7000"
      },
      "source": [
        "comments.head()"
      ],
      "execution_count": 620,
      "outputs": [
        {
          "output_type": "execute_result",
          "data": {
            "text/html": [
              "<div>\n",
              "<style scoped>\n",
              "    .dataframe tbody tr th:only-of-type {\n",
              "        vertical-align: middle;\n",
              "    }\n",
              "\n",
              "    .dataframe tbody tr th {\n",
              "        vertical-align: top;\n",
              "    }\n",
              "\n",
              "    .dataframe thead th {\n",
              "        text-align: right;\n",
              "    }\n",
              "</style>\n",
              "<table border=\"1\" class=\"dataframe\">\n",
              "  <thead>\n",
              "    <tr style=\"text-align: right;\">\n",
              "      <th></th>\n",
              "      <th>Reply</th>\n",
              "      <th>Upvote</th>\n",
              "      <th>Time</th>\n",
              "      <th>Key</th>\n",
              "    </tr>\n",
              "  </thead>\n",
              "  <tbody>\n",
              "    <tr>\n",
              "      <th>0</th>\n",
              "      <td>That email straight pissed me off, \"we would l...</td>\n",
              "      <td>60.0</td>\n",
              "      <td>2020-09-14 12:38:11</td>\n",
              "      <td>0.0</td>\n",
              "    </tr>\n",
              "    <tr>\n",
              "      <th>1</th>\n",
              "      <td>So stupid honestly. It takes just ONE asymptom...</td>\n",
              "      <td>34.0</td>\n",
              "      <td>2020-09-14 11:44:10</td>\n",
              "      <td>0.0</td>\n",
              "    </tr>\n",
              "    <tr>\n",
              "      <th>2</th>\n",
              "      <td>Sounds about right tbh</td>\n",
              "      <td>20.0</td>\n",
              "      <td>2020-09-14 10:29:36</td>\n",
              "      <td>0.0</td>\n",
              "    </tr>\n",
              "    <tr>\n",
              "      <th>3</th>\n",
              "      <td>legit is what has just happened.</td>\n",
              "      <td>17.0</td>\n",
              "      <td>2020-09-14 10:47:36</td>\n",
              "      <td>0.0</td>\n",
              "    </tr>\n",
              "    <tr>\n",
              "      <th>4</th>\n",
              "      <td>I'm young and healthy, so the virus likely won...</td>\n",
              "      <td>23.0</td>\n",
              "      <td>2020-09-14 12:58:34</td>\n",
              "      <td>0.0</td>\n",
              "    </tr>\n",
              "  </tbody>\n",
              "</table>\n",
              "</div>"
            ],
            "text/plain": [
              "                                               Reply  ...  Key\n",
              "0  That email straight pissed me off, \"we would l...  ...  0.0\n",
              "1  So stupid honestly. It takes just ONE asymptom...  ...  0.0\n",
              "2                             Sounds about right tbh  ...  0.0\n",
              "3                   legit is what has just happened.  ...  0.0\n",
              "4  I'm young and healthy, so the virus likely won...  ...  0.0\n",
              "\n",
              "[5 rows x 4 columns]"
            ]
          },
          "metadata": {
            "tags": []
          },
          "execution_count": 620
        }
      ]
    },
    {
      "cell_type": "code",
      "metadata": {
        "id": "zDOee2c5L0h6",
        "colab_type": "code",
        "colab": {}
      },
      "source": [
        "comments = comments.drop(['Upvote'], axis = 1)"
      ],
      "execution_count": 621,
      "outputs": []
    },
    {
      "cell_type": "code",
      "metadata": {
        "id": "hz6VJIDPL3v8",
        "colab_type": "code",
        "colab": {
          "base_uri": "https://localhost:8080/",
          "height": 204
        },
        "outputId": "d64e14aa-e7fd-4415-9c0a-bd807d65c766"
      },
      "source": [
        "comments.head()"
      ],
      "execution_count": 622,
      "outputs": [
        {
          "output_type": "execute_result",
          "data": {
            "text/html": [
              "<div>\n",
              "<style scoped>\n",
              "    .dataframe tbody tr th:only-of-type {\n",
              "        vertical-align: middle;\n",
              "    }\n",
              "\n",
              "    .dataframe tbody tr th {\n",
              "        vertical-align: top;\n",
              "    }\n",
              "\n",
              "    .dataframe thead th {\n",
              "        text-align: right;\n",
              "    }\n",
              "</style>\n",
              "<table border=\"1\" class=\"dataframe\">\n",
              "  <thead>\n",
              "    <tr style=\"text-align: right;\">\n",
              "      <th></th>\n",
              "      <th>Reply</th>\n",
              "      <th>Time</th>\n",
              "      <th>Key</th>\n",
              "    </tr>\n",
              "  </thead>\n",
              "  <tbody>\n",
              "    <tr>\n",
              "      <th>0</th>\n",
              "      <td>That email straight pissed me off, \"we would l...</td>\n",
              "      <td>2020-09-14 12:38:11</td>\n",
              "      <td>0.0</td>\n",
              "    </tr>\n",
              "    <tr>\n",
              "      <th>1</th>\n",
              "      <td>So stupid honestly. It takes just ONE asymptom...</td>\n",
              "      <td>2020-09-14 11:44:10</td>\n",
              "      <td>0.0</td>\n",
              "    </tr>\n",
              "    <tr>\n",
              "      <th>2</th>\n",
              "      <td>Sounds about right tbh</td>\n",
              "      <td>2020-09-14 10:29:36</td>\n",
              "      <td>0.0</td>\n",
              "    </tr>\n",
              "    <tr>\n",
              "      <th>3</th>\n",
              "      <td>legit is what has just happened.</td>\n",
              "      <td>2020-09-14 10:47:36</td>\n",
              "      <td>0.0</td>\n",
              "    </tr>\n",
              "    <tr>\n",
              "      <th>4</th>\n",
              "      <td>I'm young and healthy, so the virus likely won...</td>\n",
              "      <td>2020-09-14 12:58:34</td>\n",
              "      <td>0.0</td>\n",
              "    </tr>\n",
              "  </tbody>\n",
              "</table>\n",
              "</div>"
            ],
            "text/plain": [
              "                                               Reply                Time  Key\n",
              "0  That email straight pissed me off, \"we would l... 2020-09-14 12:38:11  0.0\n",
              "1  So stupid honestly. It takes just ONE asymptom... 2020-09-14 11:44:10  0.0\n",
              "2                             Sounds about right tbh 2020-09-14 10:29:36  0.0\n",
              "3                   legit is what has just happened. 2020-09-14 10:47:36  0.0\n",
              "4  I'm young and healthy, so the virus likely won... 2020-09-14 12:58:34  0.0"
            ]
          },
          "metadata": {
            "tags": []
          },
          "execution_count": 622
        }
      ]
    },
    {
      "cell_type": "code",
      "metadata": {
        "id": "mfXmdILuMETS",
        "colab_type": "code",
        "colab": {}
      },
      "source": [
        "comments.dropna(subset = ['Reply'], inplace = True)"
      ],
      "execution_count": 623,
      "outputs": []
    },
    {
      "cell_type": "code",
      "metadata": {
        "id": "Z056rwLtN2PP",
        "colab_type": "code",
        "colab": {}
      },
      "source": [
        "import re\n",
        "comments.Reply = comments.Reply.apply(lambda x: re.sub(r'[^\\w\\s]', '', x))"
      ],
      "execution_count": 624,
      "outputs": []
    },
    {
      "cell_type": "code",
      "metadata": {
        "id": "-I2lnrg-OHk7",
        "colab_type": "code",
        "colab": {}
      },
      "source": [
        "comments.Reply = comments.Reply.apply(lambda x: re.sub(r'\\(?http\\S+', '', x))"
      ],
      "execution_count": 625,
      "outputs": []
    },
    {
      "cell_type": "code",
      "metadata": {
        "id": "3Dlgmv9NOUfa",
        "colab_type": "code",
        "colab": {}
      },
      "source": [
        "import nltk\n",
        "from nltk.corpus import stopwords\n",
        "stopwords = stopwords.words('english')\n",
        "stopwords.append(\"deleted\")\n",
        "comments.Reply = comments.Reply.apply(lambda x: ' '.join([word for word in nltk.word_tokenize(x) if word.lower() not in stopwords]))"
      ],
      "execution_count": 626,
      "outputs": []
    },
    {
      "cell_type": "code",
      "metadata": {
        "id": "hgv4v0tgOtdC",
        "colab_type": "code",
        "colab": {}
      },
      "source": [
        "comments_wc = comments.Reply.str.cat()"
      ],
      "execution_count": 627,
      "outputs": []
    },
    {
      "cell_type": "code",
      "metadata": {
        "id": "Nd2HRVQEUSMb",
        "colab_type": "code",
        "colab": {}
      },
      "source": [
        "import wordcloud\n",
        "from wordcloud import WordCloud, STOPWORDS\n",
        "import matplotlib.pyplot as plt"
      ],
      "execution_count": 628,
      "outputs": []
    },
    {
      "cell_type": "code",
      "metadata": {
        "id": "2-UHPeOpW-Y8",
        "colab_type": "code",
        "colab": {}
      },
      "source": [
        "import random\n",
        "def grey_colour_func(word, font_size, position, orientation, random_state=None, **kwargs):\n",
        "    return \"hsl(0, 0%%, %d%%)\" % random.randint(1, 20)"
      ],
      "execution_count": 629,
      "outputs": []
    },
    {
      "cell_type": "code",
      "metadata": {
        "id": "uSr3uJa_XFxn",
        "colab_type": "code",
        "colab": {
          "base_uri": "https://localhost:8080/",
          "height": 330
        },
        "outputId": "2182522e-d293-4bfc-dd0a-b0a23302cf34"
      },
      "source": [
        "stp = STOPWORDS.copy()\n",
        "stp.add(\"fucking\")\n",
        "wc = WordCloud(background_color=\"white\", max_words=50,  stopwords=stp)\n",
        "wc.generate(comments_wc)\n",
        "\n",
        "plt.figure(figsize=(10,20))\n",
        "plt.imshow(wc.recolor(color_func=grey_colour_func, random_state=3))\n",
        "plt.show()"
      ],
      "execution_count": 630,
      "outputs": [
        {
          "output_type": "display_data",
          "data": {
            "image/png": "[encoded data removed]",
            "text/plain": [
              "<Figure size 720x1440 with 1 Axes>"
            ]
          },
          "metadata": {
            "tags": [],
            "needs_background": "light"
          }
        }
      ]
    },
    {
      "cell_type": "code",
      "metadata": {
        "id": "fIGsIAetPH7x",
        "colab_type": "code",
        "colab": {}
      },
      "source": [
        "lemmatizer = nltk.WordNetLemmatizer()\n",
        "comments.Reply = comments.Reply.apply(lambda x: ' '.join([lemmatizer.lemmatize(word) for word in nltk.word_tokenize(x)]))"
      ],
      "execution_count": 631,
      "outputs": []
    },
    {
      "cell_type": "code",
      "metadata": {
        "id": "Wl7AMy7nPt-2",
        "colab_type": "code",
        "colab": {
          "base_uri": "https://localhost:8080/",
          "height": 204
        },
        "outputId": "43fedce9-7bbd-4d9d-9e52-d266200cb152"
      },
      "source": [
        "comments.head()"
      ],
      "execution_count": 632,
      "outputs": [
        {
          "output_type": "execute_result",
          "data": {
            "text/html": [
              "<div>\n",
              "<style scoped>\n",
              "    .dataframe tbody tr th:only-of-type {\n",
              "        vertical-align: middle;\n",
              "    }\n",
              "\n",
              "    .dataframe tbody tr th {\n",
              "        vertical-align: top;\n",
              "    }\n",
              "\n",
              "    .dataframe thead th {\n",
              "        text-align: right;\n",
              "    }\n",
              "</style>\n",
              "<table border=\"1\" class=\"dataframe\">\n",
              "  <thead>\n",
              "    <tr style=\"text-align: right;\">\n",
              "      <th></th>\n",
              "      <th>Reply</th>\n",
              "      <th>Time</th>\n",
              "      <th>Key</th>\n",
              "    </tr>\n",
              "  </thead>\n",
              "  <tbody>\n",
              "    <tr>\n",
              "      <th>0</th>\n",
              "      <td>email straight pissed would like reinforce lis...</td>\n",
              "      <td>2020-09-14 12:38:11</td>\n",
              "      <td>0.0</td>\n",
              "    </tr>\n",
              "    <tr>\n",
              "      <th>1</th>\n",
              "      <td>stupid honestly take ONE asymptomatic student ...</td>\n",
              "      <td>2020-09-14 11:44:10</td>\n",
              "      <td>0.0</td>\n",
              "    </tr>\n",
              "    <tr>\n",
              "      <th>2</th>\n",
              "      <td>Sounds right tbh</td>\n",
              "      <td>2020-09-14 10:29:36</td>\n",
              "      <td>0.0</td>\n",
              "    </tr>\n",
              "    <tr>\n",
              "      <th>3</th>\n",
              "      <td>legit happened</td>\n",
              "      <td>2020-09-14 10:47:36</td>\n",
              "      <td>0.0</td>\n",
              "    </tr>\n",
              "    <tr>\n",
              "      <th>4</th>\n",
              "      <td>Im young healthy virus likely wont kill parent...</td>\n",
              "      <td>2020-09-14 12:58:34</td>\n",
              "      <td>0.0</td>\n",
              "    </tr>\n",
              "  </tbody>\n",
              "</table>\n",
              "</div>"
            ],
            "text/plain": [
              "                                               Reply                Time  Key\n",
              "0  email straight pissed would like reinforce lis... 2020-09-14 12:38:11  0.0\n",
              "1  stupid honestly take ONE asymptomatic student ... 2020-09-14 11:44:10  0.0\n",
              "2                                   Sounds right tbh 2020-09-14 10:29:36  0.0\n",
              "3                                     legit happened 2020-09-14 10:47:36  0.0\n",
              "4  Im young healthy virus likely wont kill parent... 2020-09-14 12:58:34  0.0"
            ]
          },
          "metadata": {
            "tags": []
          },
          "execution_count": 632
        }
      ]
    },
    {
      "cell_type": "code",
      "metadata": {
        "id": "K0eOjAbRcp2E",
        "colab_type": "code",
        "colab": {}
      },
      "source": [
        "sid = SentimentIntensityAnalyzer()"
      ],
      "execution_count": 633,
      "outputs": []
    },
    {
      "cell_type": "code",
      "metadata": {
        "id": "YNtCt77vetjs",
        "colab_type": "code",
        "colab": {}
      },
      "source": [
        "comments_vader[['neg','neu','pos','compound']] = comments_vader.Reply.apply(lambda x: pd.Series(sid.polarity_scores(x)))"
      ],
      "execution_count": 634,
      "outputs": []
    },
    {
      "cell_type": "code",
      "metadata": {
        "id": "qPo5WNotezhT",
        "colab_type": "code",
        "colab": {
          "base_uri": "https://localhost:8080/",
          "height": 204
        },
        "outputId": "5245bc60-857b-47db-8094-880aa8c368a0"
      },
      "source": [
        "comments_vader.head()"
      ],
      "execution_count": 635,
      "outputs": [
        {
          "output_type": "execute_result",
          "data": {
            "text/html": [
              "<div>\n",
              "<style scoped>\n",
              "    .dataframe tbody tr th:only-of-type {\n",
              "        vertical-align: middle;\n",
              "    }\n",
              "\n",
              "    .dataframe tbody tr th {\n",
              "        vertical-align: top;\n",
              "    }\n",
              "\n",
              "    .dataframe thead th {\n",
              "        text-align: right;\n",
              "    }\n",
              "</style>\n",
              "<table border=\"1\" class=\"dataframe\">\n",
              "  <thead>\n",
              "    <tr style=\"text-align: right;\">\n",
              "      <th></th>\n",
              "      <th>Reply</th>\n",
              "      <th>Time</th>\n",
              "      <th>Key</th>\n",
              "      <th>sentiment</th>\n",
              "      <th>neg</th>\n",
              "      <th>neu</th>\n",
              "      <th>pos</th>\n",
              "      <th>compound</th>\n",
              "    </tr>\n",
              "  </thead>\n",
              "  <tbody>\n",
              "    <tr>\n",
              "      <th>0</th>\n",
              "      <td>email straight pissed would like reinforce lis...</td>\n",
              "      <td>2020-09-14 12:38:11</td>\n",
              "      <td>0.0</td>\n",
              "      <td>neutral</td>\n",
              "      <td>0.186</td>\n",
              "      <td>0.629</td>\n",
              "      <td>0.185</td>\n",
              "      <td>-0.2572</td>\n",
              "    </tr>\n",
              "    <tr>\n",
              "      <th>1</th>\n",
              "      <td>stupid honestly take ONE asymptomatic student ...</td>\n",
              "      <td>2020-09-14 11:44:10</td>\n",
              "      <td>0.0</td>\n",
              "      <td>negative</td>\n",
              "      <td>0.236</td>\n",
              "      <td>0.556</td>\n",
              "      <td>0.208</td>\n",
              "      <td>-0.1027</td>\n",
              "    </tr>\n",
              "    <tr>\n",
              "      <th>2</th>\n",
              "      <td>Sounds right tbh</td>\n",
              "      <td>2020-09-14 10:29:36</td>\n",
              "      <td>0.0</td>\n",
              "      <td>positive</td>\n",
              "      <td>0.000</td>\n",
              "      <td>1.000</td>\n",
              "      <td>0.000</td>\n",
              "      <td>0.0000</td>\n",
              "    </tr>\n",
              "    <tr>\n",
              "      <th>3</th>\n",
              "      <td>legit happened</td>\n",
              "      <td>2020-09-14 10:47:36</td>\n",
              "      <td>0.0</td>\n",
              "      <td>neutral</td>\n",
              "      <td>0.000</td>\n",
              "      <td>1.000</td>\n",
              "      <td>0.000</td>\n",
              "      <td>0.0000</td>\n",
              "    </tr>\n",
              "    <tr>\n",
              "      <th>4</th>\n",
              "      <td>Im young healthy virus likely wont kill parent...</td>\n",
              "      <td>2020-09-14 12:58:34</td>\n",
              "      <td>0.0</td>\n",
              "      <td>negative</td>\n",
              "      <td>0.185</td>\n",
              "      <td>0.378</td>\n",
              "      <td>0.437</td>\n",
              "      <td>0.6529</td>\n",
              "    </tr>\n",
              "  </tbody>\n",
              "</table>\n",
              "</div>"
            ],
            "text/plain": [
              "                                               Reply  ... compound\n",
              "0  email straight pissed would like reinforce lis...  ...  -0.2572\n",
              "1  stupid honestly take ONE asymptomatic student ...  ...  -0.1027\n",
              "2                                   Sounds right tbh  ...   0.0000\n",
              "3                                     legit happened  ...   0.0000\n",
              "4  Im young healthy virus likely wont kill parent...  ...   0.6529\n",
              "\n",
              "[5 rows x 8 columns]"
            ]
          },
          "metadata": {
            "tags": []
          },
          "execution_count": 635
        }
      ]
    },
    {
      "cell_type": "code",
      "metadata": {
        "id": "TzPOFT1tpLey",
        "colab_type": "code",
        "colab": {}
      },
      "source": [
        "import numpy as np\n",
        "comments_vader['compound'] = comments_vader.compound.apply(np.sign).replace({-1.0: 'negative', 1.0: 'positive', 0.0: 'neutral'})"
      ],
      "execution_count": 636,
      "outputs": []
    },
    {
      "cell_type": "code",
      "metadata": {
        "id": "I0IiThloqI0S",
        "colab_type": "code",
        "colab": {
          "base_uri": "https://localhost:8080/",
          "height": 204
        },
        "outputId": "4b77e080-0c60-456a-8ae5-d24a81bb5ded"
      },
      "source": [
        "comments_vader.head()"
      ],
      "execution_count": 649,
      "outputs": [
        {
          "output_type": "execute_result",
          "data": {
            "text/html": [
              "<div>\n",
              "<style scoped>\n",
              "    .dataframe tbody tr th:only-of-type {\n",
              "        vertical-align: middle;\n",
              "    }\n",
              "\n",
              "    .dataframe tbody tr th {\n",
              "        vertical-align: top;\n",
              "    }\n",
              "\n",
              "    .dataframe thead th {\n",
              "        text-align: right;\n",
              "    }\n",
              "</style>\n",
              "<table border=\"1\" class=\"dataframe\">\n",
              "  <thead>\n",
              "    <tr style=\"text-align: right;\">\n",
              "      <th></th>\n",
              "      <th>Reply</th>\n",
              "      <th>Time</th>\n",
              "      <th>Key</th>\n",
              "      <th>sentiment</th>\n",
              "      <th>neg</th>\n",
              "      <th>neu</th>\n",
              "      <th>pos</th>\n",
              "      <th>compound</th>\n",
              "    </tr>\n",
              "  </thead>\n",
              "  <tbody>\n",
              "    <tr>\n",
              "      <th>0</th>\n",
              "      <td>email straight pissed would like reinforce lis...</td>\n",
              "      <td>2020-09-14 12:38:11</td>\n",
              "      <td>0.0</td>\n",
              "      <td>neutral</td>\n",
              "      <td>0.186</td>\n",
              "      <td>0.629</td>\n",
              "      <td>0.185</td>\n",
              "      <td>negative</td>\n",
              "    </tr>\n",
              "    <tr>\n",
              "      <th>1</th>\n",
              "      <td>stupid honestly take ONE asymptomatic student ...</td>\n",
              "      <td>2020-09-14 11:44:10</td>\n",
              "      <td>0.0</td>\n",
              "      <td>negative</td>\n",
              "      <td>0.236</td>\n",
              "      <td>0.556</td>\n",
              "      <td>0.208</td>\n",
              "      <td>negative</td>\n",
              "    </tr>\n",
              "    <tr>\n",
              "      <th>2</th>\n",
              "      <td>Sounds right tbh</td>\n",
              "      <td>2020-09-14 10:29:36</td>\n",
              "      <td>0.0</td>\n",
              "      <td>positive</td>\n",
              "      <td>0.000</td>\n",
              "      <td>1.000</td>\n",
              "      <td>0.000</td>\n",
              "      <td>neutral</td>\n",
              "    </tr>\n",
              "    <tr>\n",
              "      <th>3</th>\n",
              "      <td>legit happened</td>\n",
              "      <td>2020-09-14 10:47:36</td>\n",
              "      <td>0.0</td>\n",
              "      <td>neutral</td>\n",
              "      <td>0.000</td>\n",
              "      <td>1.000</td>\n",
              "      <td>0.000</td>\n",
              "      <td>neutral</td>\n",
              "    </tr>\n",
              "    <tr>\n",
              "      <th>4</th>\n",
              "      <td>Im young healthy virus likely wont kill parent...</td>\n",
              "      <td>2020-09-14 12:58:34</td>\n",
              "      <td>0.0</td>\n",
              "      <td>negative</td>\n",
              "      <td>0.185</td>\n",
              "      <td>0.378</td>\n",
              "      <td>0.437</td>\n",
              "      <td>positive</td>\n",
              "    </tr>\n",
              "  </tbody>\n",
              "</table>\n",
              "</div>"
            ],
            "text/plain": [
              "                                               Reply  ...  compound\n",
              "0  email straight pissed would like reinforce lis...  ...  negative\n",
              "1  stupid honestly take ONE asymptomatic student ...  ...  negative\n",
              "2                                   Sounds right tbh  ...   neutral\n",
              "3                                     legit happened  ...   neutral\n",
              "4  Im young healthy virus likely wont kill parent...  ...  positive\n",
              "\n",
              "[5 rows x 8 columns]"
            ]
          },
          "metadata": {
            "tags": []
          },
          "execution_count": 649
        }
      ]
    },
    {
      "cell_type": "code",
      "metadata": {
        "id": "9xBbxkJTP2Sg",
        "colab_type": "code",
        "colab": {}
      },
      "source": [
        "from sklearn.model_selection import train_test_split\n",
        "from sklearn.feature_extraction.text import CountVectorizer, TfidfVectorizer\n",
        "from sklearn.naive_bayes import MultinomialNB, GaussianNB\n",
        "from sklearn import metrics"
      ],
      "execution_count": 638,
      "outputs": []
    },
    {
      "cell_type": "code",
      "metadata": {
        "id": "84VmWTFqS1ei",
        "colab_type": "code",
        "colab": {}
      },
      "source": [
        "import import_ipynb"
      ],
      "execution_count": 639,
      "outputs": []
    },
    {
      "cell_type": "code",
      "metadata": {
        "id": "b3LohYOKmbkw",
        "colab_type": "code",
        "colab": {}
      },
      "source": [
        "%run realphase2.ipynb"
      ],
      "execution_count": 640,
      "outputs": []
    },
    {
      "cell_type": "code",
      "metadata": {
        "id": "gHbfD9idoZZG",
        "colab_type": "code",
        "colab": {}
      },
      "source": [
        "test_comments = vectorizer.transform(comments.Reply)"
      ],
      "execution_count": 641,
      "outputs": []
    },
    {
      "cell_type": "code",
      "metadata": {
        "id": "czbg9yPfpcei",
        "colab_type": "code",
        "colab": {}
      },
      "source": [
        "predicted = nb.predict(test_comments)"
      ],
      "execution_count": 642,
      "outputs": []
    },
    {
      "cell_type": "code",
      "metadata": {
        "id": "q63SQ--jpj-G",
        "colab_type": "code",
        "colab": {}
      },
      "source": [
        "comments['sentiment'] = predicted"
      ],
      "execution_count": 643,
      "outputs": []
    },
    {
      "cell_type": "code",
      "metadata": {
        "id": "P0rNn1aBqRMY",
        "colab_type": "code",
        "colab": {
          "base_uri": "https://localhost:8080/",
          "height": 204
        },
        "outputId": "b278cbbb-f0cf-49b7-ec45-44eb7b2011c2"
      },
      "source": [
        "comments.head()"
      ],
      "execution_count": 644,
      "outputs": [
        {
          "output_type": "execute_result",
          "data": {
            "text/html": [
              "<div>\n",
              "<style scoped>\n",
              "    .dataframe tbody tr th:only-of-type {\n",
              "        vertical-align: middle;\n",
              "    }\n",
              "\n",
              "    .dataframe tbody tr th {\n",
              "        vertical-align: top;\n",
              "    }\n",
              "\n",
              "    .dataframe thead th {\n",
              "        text-align: right;\n",
              "    }\n",
              "</style>\n",
              "<table border=\"1\" class=\"dataframe\">\n",
              "  <thead>\n",
              "    <tr style=\"text-align: right;\">\n",
              "      <th></th>\n",
              "      <th>Reply</th>\n",
              "      <th>Time</th>\n",
              "      <th>Key</th>\n",
              "      <th>sentiment</th>\n",
              "    </tr>\n",
              "  </thead>\n",
              "  <tbody>\n",
              "    <tr>\n",
              "      <th>0</th>\n",
              "      <td>email straight pissed would like reinforce lis...</td>\n",
              "      <td>2020-09-14 12:38:11</td>\n",
              "      <td>0.0</td>\n",
              "      <td>neutral</td>\n",
              "    </tr>\n",
              "    <tr>\n",
              "      <th>1</th>\n",
              "      <td>stupid honestly take ONE asymptomatic student ...</td>\n",
              "      <td>2020-09-14 11:44:10</td>\n",
              "      <td>0.0</td>\n",
              "      <td>negative</td>\n",
              "    </tr>\n",
              "    <tr>\n",
              "      <th>2</th>\n",
              "      <td>Sounds right tbh</td>\n",
              "      <td>2020-09-14 10:29:36</td>\n",
              "      <td>0.0</td>\n",
              "      <td>positive</td>\n",
              "    </tr>\n",
              "    <tr>\n",
              "      <th>3</th>\n",
              "      <td>legit happened</td>\n",
              "      <td>2020-09-14 10:47:36</td>\n",
              "      <td>0.0</td>\n",
              "      <td>neutral</td>\n",
              "    </tr>\n",
              "    <tr>\n",
              "      <th>4</th>\n",
              "      <td>Im young healthy virus likely wont kill parent...</td>\n",
              "      <td>2020-09-14 12:58:34</td>\n",
              "      <td>0.0</td>\n",
              "      <td>negative</td>\n",
              "    </tr>\n",
              "  </tbody>\n",
              "</table>\n",
              "</div>"
            ],
            "text/plain": [
              "                                               Reply  ... sentiment\n",
              "0  email straight pissed would like reinforce lis...  ...   neutral\n",
              "1  stupid honestly take ONE asymptomatic student ...  ...  negative\n",
              "2                                   Sounds right tbh  ...  positive\n",
              "3                                     legit happened  ...   neutral\n",
              "4  Im young healthy virus likely wont kill parent...  ...  negative\n",
              "\n",
              "[5 rows x 4 columns]"
            ]
          },
          "metadata": {
            "tags": []
          },
          "execution_count": 644
        }
      ]
    },
    {
      "cell_type": "code",
      "metadata": {
        "id": "2Gi4r5fLmLoP",
        "colab_type": "code",
        "colab": {
          "base_uri": "https://localhost:8080/",
          "height": 89
        },
        "outputId": "3157bcf3-90c8-4d71-c67b-3c5dc633c5bf"
      },
      "source": [
        "comments_vader.compound.value_counts()"
      ],
      "execution_count": 647,
      "outputs": [
        {
          "output_type": "execute_result",
          "data": {
            "text/plain": [
              "positive    267\n",
              "negative    140\n",
              "neutral     120\n",
              "Name: compound, dtype: int64"
            ]
          },
          "metadata": {
            "tags": []
          },
          "execution_count": 647
        }
      ]
    },
    {
      "cell_type": "code",
      "metadata": {
        "id": "vg38D8Ndmczo",
        "colab_type": "code",
        "colab": {
          "base_uri": "https://localhost:8080/",
          "height": 89
        },
        "outputId": "cae62c9d-0a49-44fe-d408-71f8c9bb83d5"
      },
      "source": [
        "comments.sentiment.value_counts()"
      ],
      "execution_count": 648,
      "outputs": [
        {
          "output_type": "execute_result",
          "data": {
            "text/plain": [
              "neutral     389\n",
              "negative     83\n",
              "positive     55\n",
              "Name: sentiment, dtype: int64"
            ]
          },
          "metadata": {
            "tags": []
          },
          "execution_count": 648
        }
      ]
    },
    {
      "cell_type": "code",
      "metadata": {
        "id": "01U1qAB3me7u",
        "colab_type": "code",
        "colab": {}
      },
      "source": [
        ""
      ],
      "execution_count": null,
      "outputs": []
    }
  ]
}