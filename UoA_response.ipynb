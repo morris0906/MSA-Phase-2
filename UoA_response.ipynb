{
  "nbformat": 4,
  "nbformat_minor": 0,
  "metadata": {
    "colab": {
      "name": "RealPhase2.ipynb",
      "provenance": [],
      "collapsed_sections": []
    },
    "kernelspec": {
      "name": "python3",
      "display_name": "Python 3"
    }
  },
  "cells": [
    {
      "cell_type": "code",
      "metadata": {
        "id": "pAod7zq1FJA9",
        "colab_type": "code",
        "colab": {}
      },
      "source": [
        "import datetime\n",
        "import numpy as np\n",
        "import pandas as pd\n",
        "from keys import *\n",
        "from api_funcs import *"
      ],
      "execution_count": 819,
      "outputs": []
    },
    {
      "cell_type": "markdown",
      "metadata": {
        "id": "_N0oey5qzwP-",
        "colab_type": "text"
      },
      "source": [
        "# Getting data from Reddit\n"
      ]
    },
    {
      "cell_type": "markdown",
      "metadata": {
        "id": "ZdzGuNa00Dij",
        "colab_type": "text"
      },
      "source": [
        "Collecting top posts of the week from reddit using API"
      ]
    },
    {
      "cell_type": "code",
      "metadata": {
        "id": "2uDDxChWFSSl",
        "colab_type": "code",
        "colab": {}
      },
      "source": [
        "reddit = praw.Reddit( client_id=client_id, client_secret=client_secret, user_agent='android:my_app:v1 (by /u/randomaucklander)')"
      ],
      "execution_count": 820,
      "outputs": []
    },
    {
      "cell_type": "code",
      "metadata": {
        "id": "j2huQX9jF7sG",
        "colab_type": "code",
        "colab": {}
      },
      "source": [
        "UoA = reddit.subreddit(\"universityofauckland\")"
      ],
      "execution_count": 821,
      "outputs": []
    },
    {
      "cell_type": "code",
      "metadata": {
        "id": "cjB8NVODJVZG",
        "colab_type": "code",
        "colab": {}
      },
      "source": [
        "posts = []\n",
        "for index, post in enumerate(UoA.top(time_filter = 'week', limit=500)):\n",
        "  posts.append([post.title, \"https://www.reddit.com\" + post.permalink, post.selftext, post.score, post.created_utc, index])\n",
        "posts = pd.DataFrame(posts, columns=['Title', 'URL', 'Body', 'Upvotes', 'Time', 'Key'])\n",
        "posts.Time = posts.Time.apply(lambda x: pd.to_datetime(datetime.datetime.fromtimestamp(x)))"
      ],
      "execution_count": 822,
      "outputs": []
    },
    {
      "cell_type": "code",
      "metadata": {
        "id": "GSx3SDf6Joad",
        "colab_type": "code",
        "colab": {
          "base_uri": "https://localhost:8080/",
          "height": 204
        },
        "outputId": "40078945-fe11-4301-8f07-ef6ac3b70fcc"
      },
      "source": [
        "posts.head()"
      ],
      "execution_count": 823,
      "outputs": [
        {
          "output_type": "execute_result",
          "data": {
            "text/html": [
              "<div>\n",
              "<style scoped>\n",
              "    .dataframe tbody tr th:only-of-type {\n",
              "        vertical-align: middle;\n",
              "    }\n",
              "\n",
              "    .dataframe tbody tr th {\n",
              "        vertical-align: top;\n",
              "    }\n",
              "\n",
              "    .dataframe thead th {\n",
              "        text-align: right;\n",
              "    }\n",
              "</style>\n",
              "<table border=\"1\" class=\"dataframe\">\n",
              "  <thead>\n",
              "    <tr style=\"text-align: right;\">\n",
              "      <th></th>\n",
              "      <th>Title</th>\n",
              "      <th>URL</th>\n",
              "      <th>Body</th>\n",
              "      <th>Upvotes</th>\n",
              "      <th>Time</th>\n",
              "      <th>Key</th>\n",
              "    </tr>\n",
              "  </thead>\n",
              "  <tbody>\n",
              "    <tr>\n",
              "      <th>0</th>\n",
              "      <td>Quick Summary of the Latest Email for Those Wh...</td>\n",
              "      <td>https://www.reddit.com/r/universityofauckland/...</td>\n",
              "      <td></td>\n",
              "      <td>282</td>\n",
              "      <td>2020-09-14 09:54:00</td>\n",
              "      <td>0</td>\n",
              "    </tr>\n",
              "    <tr>\n",
              "      <th>1</th>\n",
              "      <td>Daddy Bloomfield out here hustlin for students 😍</td>\n",
              "      <td>https://www.reddit.com/r/universityofauckland/...</td>\n",
              "      <td></td>\n",
              "      <td>213</td>\n",
              "      <td>2020-09-16 03:34:22</td>\n",
              "      <td>1</td>\n",
              "    </tr>\n",
              "    <tr>\n",
              "      <th>2</th>\n",
              "      <td>\"So Dawn, where did the idea for a $50 compass...</td>\n",
              "      <td>https://www.reddit.com/r/universityofauckland/...</td>\n",
              "      <td></td>\n",
              "      <td>186</td>\n",
              "      <td>2020-09-15 01:08:37</td>\n",
              "      <td>2</td>\n",
              "    </tr>\n",
              "    <tr>\n",
              "      <th>3</th>\n",
              "      <td>Credit to Shaun Price for the joke</td>\n",
              "      <td>https://www.reddit.com/r/universityofauckland/...</td>\n",
              "      <td></td>\n",
              "      <td>176</td>\n",
              "      <td>2020-09-15 05:20:11</td>\n",
              "      <td>3</td>\n",
              "    </tr>\n",
              "    <tr>\n",
              "      <th>4</th>\n",
              "      <td>Unfair Examinations</td>\n",
              "      <td>https://www.reddit.com/r/universityofauckland/...</td>\n",
              "      <td>Hi everyone,\\n\\nMy friend told me that for off...</td>\n",
              "      <td>130</td>\n",
              "      <td>2020-09-15 08:51:21</td>\n",
              "      <td>4</td>\n",
              "    </tr>\n",
              "  </tbody>\n",
              "</table>\n",
              "</div>"
            ],
            "text/plain": [
              "                                               Title  ... Key\n",
              "0  Quick Summary of the Latest Email for Those Wh...  ...   0\n",
              "1   Daddy Bloomfield out here hustlin for students 😍  ...   1\n",
              "2  \"So Dawn, where did the idea for a $50 compass...  ...   2\n",
              "3                 Credit to Shaun Price for the joke  ...   3\n",
              "4                                Unfair Examinations  ...   4\n",
              "\n",
              "[5 rows x 6 columns]"
            ]
          },
          "metadata": {
            "tags": []
          },
          "execution_count": 823
        }
      ]
    },
    {
      "cell_type": "markdown",
      "metadata": {
        "id": "98Pqqz1l0Svd",
        "colab_type": "text"
      },
      "source": [
        "Getting replies of the posts collected"
      ]
    },
    {
      "cell_type": "code",
      "metadata": {
        "id": "V9Kc96hDKNfl",
        "colab_type": "code",
        "colab": {}
      },
      "source": [
        "def collect_replies(key, url):\n",
        "    submission = reddit.submission(url=url)\n",
        "    submission.comments.replace_more(limit=None)\n",
        "    comment_queue = submission.comments[:] \n",
        "\n",
        "    table = {'Reply':[], 'Upvote':[], 'Time':[], 'Key':[]}\n",
        "\n",
        "    while comment_queue:\n",
        "        comment = comment_queue.pop(0)\n",
        "        table['Reply'].append(comment.body)\n",
        "        table['Time'].append(comment.created_utc)\n",
        "        table['Upvote'].append(comment.score)\n",
        "        table['Key'].append(key)\n",
        "        comment_queue.extend(comment.replies)\n",
        "    \n",
        "    return pd.DataFrame.from_dict(table)"
      ],
      "execution_count": 824,
      "outputs": []
    },
    {
      "cell_type": "code",
      "metadata": {
        "id": "0yJ2XhTbKRtK",
        "colab_type": "code",
        "colab": {}
      },
      "source": [
        "keys = posts.Key.tolist()\n",
        "urls = posts.URL.tolist()\n",
        "tupules = list(zip(keys, urls))"
      ],
      "execution_count": 825,
      "outputs": []
    },
    {
      "cell_type": "code",
      "metadata": {
        "id": "ImN_t72xKVHT",
        "colab_type": "code",
        "colab": {}
      },
      "source": [
        "comments = pd.concat([collect_replies(x[0], x[1]) for x in tupules])"
      ],
      "execution_count": 826,
      "outputs": []
    },
    {
      "cell_type": "code",
      "metadata": {
        "id": "CzpRemhcKXDS",
        "colab_type": "code",
        "colab": {}
      },
      "source": [
        "comments.Time = comments.Time.apply(lambda x: pd.to_datetime(datetime.datetime.fromtimestamp(x)))"
      ],
      "execution_count": 827,
      "outputs": []
    },
    {
      "cell_type": "code",
      "metadata": {
        "id": "w7M0wNH7Kco9",
        "colab_type": "code",
        "colab": {
          "base_uri": "https://localhost:8080/",
          "height": 204
        },
        "outputId": "d7f25222-4097-440c-b84b-6a155bab536d"
      },
      "source": [
        "comments.head()"
      ],
      "execution_count": 828,
      "outputs": [
        {
          "output_type": "execute_result",
          "data": {
            "text/html": [
              "<div>\n",
              "<style scoped>\n",
              "    .dataframe tbody tr th:only-of-type {\n",
              "        vertical-align: middle;\n",
              "    }\n",
              "\n",
              "    .dataframe tbody tr th {\n",
              "        vertical-align: top;\n",
              "    }\n",
              "\n",
              "    .dataframe thead th {\n",
              "        text-align: right;\n",
              "    }\n",
              "</style>\n",
              "<table border=\"1\" class=\"dataframe\">\n",
              "  <thead>\n",
              "    <tr style=\"text-align: right;\">\n",
              "      <th></th>\n",
              "      <th>Reply</th>\n",
              "      <th>Upvote</th>\n",
              "      <th>Time</th>\n",
              "      <th>Key</th>\n",
              "    </tr>\n",
              "  </thead>\n",
              "  <tbody>\n",
              "    <tr>\n",
              "      <th>0</th>\n",
              "      <td>That email straight pissed me off, \"we would l...</td>\n",
              "      <td>61.0</td>\n",
              "      <td>2020-09-14 12:38:11</td>\n",
              "      <td>0.0</td>\n",
              "    </tr>\n",
              "    <tr>\n",
              "      <th>1</th>\n",
              "      <td>So stupid honestly. It takes just ONE asymptom...</td>\n",
              "      <td>34.0</td>\n",
              "      <td>2020-09-14 11:44:10</td>\n",
              "      <td>0.0</td>\n",
              "    </tr>\n",
              "    <tr>\n",
              "      <th>2</th>\n",
              "      <td>Sounds about right tbh</td>\n",
              "      <td>20.0</td>\n",
              "      <td>2020-09-14 10:29:36</td>\n",
              "      <td>0.0</td>\n",
              "    </tr>\n",
              "    <tr>\n",
              "      <th>3</th>\n",
              "      <td>legit is what has just happened.</td>\n",
              "      <td>15.0</td>\n",
              "      <td>2020-09-14 10:47:36</td>\n",
              "      <td>0.0</td>\n",
              "    </tr>\n",
              "    <tr>\n",
              "      <th>4</th>\n",
              "      <td>I'm young and healthy, so the virus likely won...</td>\n",
              "      <td>23.0</td>\n",
              "      <td>2020-09-14 12:58:34</td>\n",
              "      <td>0.0</td>\n",
              "    </tr>\n",
              "  </tbody>\n",
              "</table>\n",
              "</div>"
            ],
            "text/plain": [
              "                                               Reply  ...  Key\n",
              "0  That email straight pissed me off, \"we would l...  ...  0.0\n",
              "1  So stupid honestly. It takes just ONE asymptom...  ...  0.0\n",
              "2                             Sounds about right tbh  ...  0.0\n",
              "3                   legit is what has just happened.  ...  0.0\n",
              "4  I'm young and healthy, so the virus likely won...  ...  0.0\n",
              "\n",
              "[5 rows x 4 columns]"
            ]
          },
          "metadata": {
            "tags": []
          },
          "execution_count": 828
        }
      ]
    },
    {
      "cell_type": "markdown",
      "metadata": {
        "id": "irBKoE3d0k6-",
        "colab_type": "text"
      },
      "source": [
        "# Data cleansing and exploration"
      ]
    },
    {
      "cell_type": "markdown",
      "metadata": {
        "id": "nJFT_juH00ha",
        "colab_type": "text"
      },
      "source": [
        "Dropping number of Upovotes each replies got"
      ]
    },
    {
      "cell_type": "code",
      "metadata": {
        "id": "zDOee2c5L0h6",
        "colab_type": "code",
        "colab": {}
      },
      "source": [
        "comments = comments.drop(['Upvote'], axis = 1)"
      ],
      "execution_count": 829,
      "outputs": []
    },
    {
      "cell_type": "code",
      "metadata": {
        "id": "hz6VJIDPL3v8",
        "colab_type": "code",
        "colab": {
          "base_uri": "https://localhost:8080/",
          "height": 204
        },
        "outputId": "f368b7c0-68fe-4e5f-9295-2ba83b204a3b"
      },
      "source": [
        "comments.head()"
      ],
      "execution_count": 830,
      "outputs": [
        {
          "output_type": "execute_result",
          "data": {
            "text/html": [
              "<div>\n",
              "<style scoped>\n",
              "    .dataframe tbody tr th:only-of-type {\n",
              "        vertical-align: middle;\n",
              "    }\n",
              "\n",
              "    .dataframe tbody tr th {\n",
              "        vertical-align: top;\n",
              "    }\n",
              "\n",
              "    .dataframe thead th {\n",
              "        text-align: right;\n",
              "    }\n",
              "</style>\n",
              "<table border=\"1\" class=\"dataframe\">\n",
              "  <thead>\n",
              "    <tr style=\"text-align: right;\">\n",
              "      <th></th>\n",
              "      <th>Reply</th>\n",
              "      <th>Time</th>\n",
              "      <th>Key</th>\n",
              "    </tr>\n",
              "  </thead>\n",
              "  <tbody>\n",
              "    <tr>\n",
              "      <th>0</th>\n",
              "      <td>That email straight pissed me off, \"we would l...</td>\n",
              "      <td>2020-09-14 12:38:11</td>\n",
              "      <td>0.0</td>\n",
              "    </tr>\n",
              "    <tr>\n",
              "      <th>1</th>\n",
              "      <td>So stupid honestly. It takes just ONE asymptom...</td>\n",
              "      <td>2020-09-14 11:44:10</td>\n",
              "      <td>0.0</td>\n",
              "    </tr>\n",
              "    <tr>\n",
              "      <th>2</th>\n",
              "      <td>Sounds about right tbh</td>\n",
              "      <td>2020-09-14 10:29:36</td>\n",
              "      <td>0.0</td>\n",
              "    </tr>\n",
              "    <tr>\n",
              "      <th>3</th>\n",
              "      <td>legit is what has just happened.</td>\n",
              "      <td>2020-09-14 10:47:36</td>\n",
              "      <td>0.0</td>\n",
              "    </tr>\n",
              "    <tr>\n",
              "      <th>4</th>\n",
              "      <td>I'm young and healthy, so the virus likely won...</td>\n",
              "      <td>2020-09-14 12:58:34</td>\n",
              "      <td>0.0</td>\n",
              "    </tr>\n",
              "  </tbody>\n",
              "</table>\n",
              "</div>"
            ],
            "text/plain": [
              "                                               Reply                Time  Key\n",
              "0  That email straight pissed me off, \"we would l... 2020-09-14 12:38:11  0.0\n",
              "1  So stupid honestly. It takes just ONE asymptom... 2020-09-14 11:44:10  0.0\n",
              "2                             Sounds about right tbh 2020-09-14 10:29:36  0.0\n",
              "3                   legit is what has just happened. 2020-09-14 10:47:36  0.0\n",
              "4  I'm young and healthy, so the virus likely won... 2020-09-14 12:58:34  0.0"
            ]
          },
          "metadata": {
            "tags": []
          },
          "execution_count": 830
        }
      ]
    },
    {
      "cell_type": "code",
      "metadata": {
        "id": "mfXmdILuMETS",
        "colab_type": "code",
        "colab": {}
      },
      "source": [
        "comments.dropna(subset = ['Reply'], inplace = True)"
      ],
      "execution_count": 831,
      "outputs": []
    },
    {
      "cell_type": "markdown",
      "metadata": {
        "id": "rrRYhcvu05Rq",
        "colab_type": "text"
      },
      "source": [
        "Removing non-alphabet characters and links"
      ]
    },
    {
      "cell_type": "code",
      "metadata": {
        "id": "Z056rwLtN2PP",
        "colab_type": "code",
        "colab": {}
      },
      "source": [
        "import re\n",
        "comments.Reply = comments.Reply.apply(lambda x: re.sub(r'[^\\w\\s]', '', x))"
      ],
      "execution_count": 832,
      "outputs": []
    },
    {
      "cell_type": "code",
      "metadata": {
        "id": "-I2lnrg-OHk7",
        "colab_type": "code",
        "colab": {}
      },
      "source": [
        "comments.Reply = comments.Reply.apply(lambda x: re.sub(r'\\(?http\\S+', '', x))"
      ],
      "execution_count": 833,
      "outputs": []
    },
    {
      "cell_type": "markdown",
      "metadata": {
        "id": "6laLsNRz1AQf",
        "colab_type": "text"
      },
      "source": [
        "Exploring the data by using wordcloud to visualise"
      ]
    },
    {
      "cell_type": "code",
      "metadata": {
        "id": "3Dlgmv9NOUfa",
        "colab_type": "code",
        "colab": {}
      },
      "source": [
        "import nltk\n",
        "from nltk.corpus import stopwords\n",
        "stopwords = stopwords.words('english')\n",
        "stopwords.append(\"deleted\")\n",
        "comments.Reply = comments.Reply.apply(lambda x: ' '.join([word for word in nltk.word_tokenize(x) if word.lower() not in stopwords]))"
      ],
      "execution_count": 834,
      "outputs": []
    },
    {
      "cell_type": "code",
      "metadata": {
        "id": "hgv4v0tgOtdC",
        "colab_type": "code",
        "colab": {}
      },
      "source": [
        "comments_wc = comments.Reply.str.cat()"
      ],
      "execution_count": 835,
      "outputs": []
    },
    {
      "cell_type": "code",
      "metadata": {
        "id": "Nd2HRVQEUSMb",
        "colab_type": "code",
        "colab": {}
      },
      "source": [
        "import wordcloud\n",
        "from wordcloud import WordCloud, STOPWORDS\n",
        "import matplotlib.pyplot as plt"
      ],
      "execution_count": 836,
      "outputs": []
    },
    {
      "cell_type": "code",
      "metadata": {
        "id": "2-UHPeOpW-Y8",
        "colab_type": "code",
        "colab": {}
      },
      "source": [
        "import random\n",
        "def grey_colour_func(word, font_size, position, orientation, random_state=None, **kwargs):\n",
        "    return \"hsl(0, 0%%, %d%%)\" % random.randint(1, 20)"
      ],
      "execution_count": 837,
      "outputs": []
    },
    {
      "cell_type": "code",
      "metadata": {
        "id": "uSr3uJa_XFxn",
        "colab_type": "code",
        "colab": {
          "base_uri": "https://localhost:8080/",
          "height": 330
        },
        "outputId": "6ecffa35-b2a8-44b8-a5bf-995b016c975c"
      },
      "source": [
        "stp = STOPWORDS.copy()\n",
        "\"\"\"Added inappropriate word into stopwords\"\"\"\n",
        "stp.add(\"fucking\")\n",
        "wc = WordCloud(background_color=\"white\", max_words=50,  stopwords=stp)\n",
        "wc.generate(comments_wc)\n",
        "\n",
        "plt.figure(figsize=(10,20))\n",
        "plt.imshow(wc.recolor(color_func=grey_colour_func, random_state=3))\n",
        "plt.show()"
      ],
      "execution_count": 838,
      "outputs": [
        {
          "output_type": "display_data",
          "data": {
            "image/png": "[encoded data removed]",
            "text/plain": [
              "<Figure size 720x1440 with 1 Axes>"
            ]
          },
          "metadata": {
            "tags": [],
            "needs_background": "light"
          }
        }
      ]
    },
    {
      "cell_type": "markdown",
      "metadata": {
        "id": "Ez7E_t7X1R74",
        "colab_type": "text"
      },
      "source": [
        "Lemmatization"
      ]
    },
    {
      "cell_type": "code",
      "metadata": {
        "id": "fIGsIAetPH7x",
        "colab_type": "code",
        "colab": {}
      },
      "source": [
        "lemmatizer = nltk.WordNetLemmatizer()\n",
        "comments.Reply = comments.Reply.apply(lambda x: ' '.join([lemmatizer.lemmatize(word) for word in nltk.word_tokenize(x)]))"
      ],
      "execution_count": 839,
      "outputs": []
    },
    {
      "cell_type": "code",
      "metadata": {
        "id": "Wl7AMy7nPt-2",
        "colab_type": "code",
        "colab": {
          "base_uri": "https://localhost:8080/",
          "height": 204
        },
        "outputId": "11fe5b91-4ee1-48e7-8811-e2cad81c01e7"
      },
      "source": [
        "comments.head()"
      ],
      "execution_count": 840,
      "outputs": [
        {
          "output_type": "execute_result",
          "data": {
            "text/html": [
              "<div>\n",
              "<style scoped>\n",
              "    .dataframe tbody tr th:only-of-type {\n",
              "        vertical-align: middle;\n",
              "    }\n",
              "\n",
              "    .dataframe tbody tr th {\n",
              "        vertical-align: top;\n",
              "    }\n",
              "\n",
              "    .dataframe thead th {\n",
              "        text-align: right;\n",
              "    }\n",
              "</style>\n",
              "<table border=\"1\" class=\"dataframe\">\n",
              "  <thead>\n",
              "    <tr style=\"text-align: right;\">\n",
              "      <th></th>\n",
              "      <th>Reply</th>\n",
              "      <th>Time</th>\n",
              "      <th>Key</th>\n",
              "    </tr>\n",
              "  </thead>\n",
              "  <tbody>\n",
              "    <tr>\n",
              "      <th>0</th>\n",
              "      <td>email straight pissed would like reinforce lis...</td>\n",
              "      <td>2020-09-14 12:38:11</td>\n",
              "      <td>0.0</td>\n",
              "    </tr>\n",
              "    <tr>\n",
              "      <th>1</th>\n",
              "      <td>stupid honestly take ONE asymptomatic student ...</td>\n",
              "      <td>2020-09-14 11:44:10</td>\n",
              "      <td>0.0</td>\n",
              "    </tr>\n",
              "    <tr>\n",
              "      <th>2</th>\n",
              "      <td>Sounds right tbh</td>\n",
              "      <td>2020-09-14 10:29:36</td>\n",
              "      <td>0.0</td>\n",
              "    </tr>\n",
              "    <tr>\n",
              "      <th>3</th>\n",
              "      <td>legit happened</td>\n",
              "      <td>2020-09-14 10:47:36</td>\n",
              "      <td>0.0</td>\n",
              "    </tr>\n",
              "    <tr>\n",
              "      <th>4</th>\n",
              "      <td>Im young healthy virus likely wont kill parent...</td>\n",
              "      <td>2020-09-14 12:58:34</td>\n",
              "      <td>0.0</td>\n",
              "    </tr>\n",
              "  </tbody>\n",
              "</table>\n",
              "</div>"
            ],
            "text/plain": [
              "                                               Reply                Time  Key\n",
              "0  email straight pissed would like reinforce lis... 2020-09-14 12:38:11  0.0\n",
              "1  stupid honestly take ONE asymptomatic student ... 2020-09-14 11:44:10  0.0\n",
              "2                                   Sounds right tbh 2020-09-14 10:29:36  0.0\n",
              "3                                     legit happened 2020-09-14 10:47:36  0.0\n",
              "4  Im young healthy virus likely wont kill parent... 2020-09-14 12:58:34  0.0"
            ]
          },
          "metadata": {
            "tags": []
          },
          "execution_count": 840
        }
      ]
    },
    {
      "cell_type": "markdown",
      "metadata": {
        "id": "b_7qUJTt12r6",
        "colab_type": "text"
      },
      "source": [
        "# Sentiment Analysis"
      ]
    },
    {
      "cell_type": "markdown",
      "metadata": {
        "id": "3xnmXctl2CS8",
        "colab_type": "text"
      },
      "source": [
        "**Sentiment analysis using nltk Vader**"
      ]
    },
    {
      "cell_type": "code",
      "metadata": {
        "id": "K0eOjAbRcp2E",
        "colab_type": "code",
        "colab": {}
      },
      "source": [
        "sid = SentimentIntensityAnalyzer()"
      ],
      "execution_count": 841,
      "outputs": []
    },
    {
      "cell_type": "code",
      "metadata": {
        "id": "A4PjqkE2teYG",
        "colab_type": "code",
        "colab": {}
      },
      "source": [
        "comments_vader = comments"
      ],
      "execution_count": 842,
      "outputs": []
    },
    {
      "cell_type": "code",
      "metadata": {
        "id": "YNtCt77vetjs",
        "colab_type": "code",
        "colab": {}
      },
      "source": [
        "comments_vader[['neg','neu','pos','compound']] = comments_vader.Reply.apply(lambda x: pd.Series(sid.polarity_scores(x)))"
      ],
      "execution_count": 843,
      "outputs": []
    },
    {
      "cell_type": "code",
      "metadata": {
        "id": "qPo5WNotezhT",
        "colab_type": "code",
        "colab": {
          "base_uri": "https://localhost:8080/",
          "height": 204
        },
        "outputId": "167cbef8-3313-41d4-fab3-0d5fa534677e"
      },
      "source": [
        "comments_vader.head()"
      ],
      "execution_count": 844,
      "outputs": [
        {
          "output_type": "execute_result",
          "data": {
            "text/html": [
              "<div>\n",
              "<style scoped>\n",
              "    .dataframe tbody tr th:only-of-type {\n",
              "        vertical-align: middle;\n",
              "    }\n",
              "\n",
              "    .dataframe tbody tr th {\n",
              "        vertical-align: top;\n",
              "    }\n",
              "\n",
              "    .dataframe thead th {\n",
              "        text-align: right;\n",
              "    }\n",
              "</style>\n",
              "<table border=\"1\" class=\"dataframe\">\n",
              "  <thead>\n",
              "    <tr style=\"text-align: right;\">\n",
              "      <th></th>\n",
              "      <th>Reply</th>\n",
              "      <th>Time</th>\n",
              "      <th>Key</th>\n",
              "      <th>neg</th>\n",
              "      <th>neu</th>\n",
              "      <th>pos</th>\n",
              "      <th>compound</th>\n",
              "    </tr>\n",
              "  </thead>\n",
              "  <tbody>\n",
              "    <tr>\n",
              "      <th>0</th>\n",
              "      <td>email straight pissed would like reinforce lis...</td>\n",
              "      <td>2020-09-14 12:38:11</td>\n",
              "      <td>0.0</td>\n",
              "      <td>0.186</td>\n",
              "      <td>0.629</td>\n",
              "      <td>0.185</td>\n",
              "      <td>-0.2572</td>\n",
              "    </tr>\n",
              "    <tr>\n",
              "      <th>1</th>\n",
              "      <td>stupid honestly take ONE asymptomatic student ...</td>\n",
              "      <td>2020-09-14 11:44:10</td>\n",
              "      <td>0.0</td>\n",
              "      <td>0.236</td>\n",
              "      <td>0.556</td>\n",
              "      <td>0.208</td>\n",
              "      <td>-0.1027</td>\n",
              "    </tr>\n",
              "    <tr>\n",
              "      <th>2</th>\n",
              "      <td>Sounds right tbh</td>\n",
              "      <td>2020-09-14 10:29:36</td>\n",
              "      <td>0.0</td>\n",
              "      <td>0.000</td>\n",
              "      <td>1.000</td>\n",
              "      <td>0.000</td>\n",
              "      <td>0.0000</td>\n",
              "    </tr>\n",
              "    <tr>\n",
              "      <th>3</th>\n",
              "      <td>legit happened</td>\n",
              "      <td>2020-09-14 10:47:36</td>\n",
              "      <td>0.0</td>\n",
              "      <td>0.000</td>\n",
              "      <td>1.000</td>\n",
              "      <td>0.000</td>\n",
              "      <td>0.0000</td>\n",
              "    </tr>\n",
              "    <tr>\n",
              "      <th>4</th>\n",
              "      <td>Im young healthy virus likely wont kill parent...</td>\n",
              "      <td>2020-09-14 12:58:34</td>\n",
              "      <td>0.0</td>\n",
              "      <td>0.185</td>\n",
              "      <td>0.378</td>\n",
              "      <td>0.437</td>\n",
              "      <td>0.6529</td>\n",
              "    </tr>\n",
              "  </tbody>\n",
              "</table>\n",
              "</div>"
            ],
            "text/plain": [
              "                                               Reply  ... compound\n",
              "0  email straight pissed would like reinforce lis...  ...  -0.2572\n",
              "1  stupid honestly take ONE asymptomatic student ...  ...  -0.1027\n",
              "2                                   Sounds right tbh  ...   0.0000\n",
              "3                                     legit happened  ...   0.0000\n",
              "4  Im young healthy virus likely wont kill parent...  ...   0.6529\n",
              "\n",
              "[5 rows x 7 columns]"
            ]
          },
          "metadata": {
            "tags": []
          },
          "execution_count": 844
        }
      ]
    },
    {
      "cell_type": "markdown",
      "metadata": {
        "id": "n2mGtTVO2Q0b",
        "colab_type": "text"
      },
      "source": [
        "Changing the float values of compound to \"negative\", \"neutral\" and \"positive\", hence, it's easier to read."
      ]
    },
    {
      "cell_type": "code",
      "metadata": {
        "id": "TzPOFT1tpLey",
        "colab_type": "code",
        "colab": {}
      },
      "source": [
        "import numpy as np\n",
        "comments_vader['compound'] = comments_vader.compound.apply(np.sign).replace({-1.0: 'negative', 1.0: 'positive', 0.0: 'neutral'})"
      ],
      "execution_count": 845,
      "outputs": []
    },
    {
      "cell_type": "code",
      "metadata": {
        "id": "I0IiThloqI0S",
        "colab_type": "code",
        "colab": {
          "base_uri": "https://localhost:8080/",
          "height": 204
        },
        "outputId": "618bb561-4997-4a57-b799-5bbc7b697d6f"
      },
      "source": [
        "comments_vader.head()"
      ],
      "execution_count": 846,
      "outputs": [
        {
          "output_type": "execute_result",
          "data": {
            "text/html": [
              "<div>\n",
              "<style scoped>\n",
              "    .dataframe tbody tr th:only-of-type {\n",
              "        vertical-align: middle;\n",
              "    }\n",
              "\n",
              "    .dataframe tbody tr th {\n",
              "        vertical-align: top;\n",
              "    }\n",
              "\n",
              "    .dataframe thead th {\n",
              "        text-align: right;\n",
              "    }\n",
              "</style>\n",
              "<table border=\"1\" class=\"dataframe\">\n",
              "  <thead>\n",
              "    <tr style=\"text-align: right;\">\n",
              "      <th></th>\n",
              "      <th>Reply</th>\n",
              "      <th>Time</th>\n",
              "      <th>Key</th>\n",
              "      <th>neg</th>\n",
              "      <th>neu</th>\n",
              "      <th>pos</th>\n",
              "      <th>compound</th>\n",
              "    </tr>\n",
              "  </thead>\n",
              "  <tbody>\n",
              "    <tr>\n",
              "      <th>0</th>\n",
              "      <td>email straight pissed would like reinforce lis...</td>\n",
              "      <td>2020-09-14 12:38:11</td>\n",
              "      <td>0.0</td>\n",
              "      <td>0.186</td>\n",
              "      <td>0.629</td>\n",
              "      <td>0.185</td>\n",
              "      <td>negative</td>\n",
              "    </tr>\n",
              "    <tr>\n",
              "      <th>1</th>\n",
              "      <td>stupid honestly take ONE asymptomatic student ...</td>\n",
              "      <td>2020-09-14 11:44:10</td>\n",
              "      <td>0.0</td>\n",
              "      <td>0.236</td>\n",
              "      <td>0.556</td>\n",
              "      <td>0.208</td>\n",
              "      <td>negative</td>\n",
              "    </tr>\n",
              "    <tr>\n",
              "      <th>2</th>\n",
              "      <td>Sounds right tbh</td>\n",
              "      <td>2020-09-14 10:29:36</td>\n",
              "      <td>0.0</td>\n",
              "      <td>0.000</td>\n",
              "      <td>1.000</td>\n",
              "      <td>0.000</td>\n",
              "      <td>neutral</td>\n",
              "    </tr>\n",
              "    <tr>\n",
              "      <th>3</th>\n",
              "      <td>legit happened</td>\n",
              "      <td>2020-09-14 10:47:36</td>\n",
              "      <td>0.0</td>\n",
              "      <td>0.000</td>\n",
              "      <td>1.000</td>\n",
              "      <td>0.000</td>\n",
              "      <td>neutral</td>\n",
              "    </tr>\n",
              "    <tr>\n",
              "      <th>4</th>\n",
              "      <td>Im young healthy virus likely wont kill parent...</td>\n",
              "      <td>2020-09-14 12:58:34</td>\n",
              "      <td>0.0</td>\n",
              "      <td>0.185</td>\n",
              "      <td>0.378</td>\n",
              "      <td>0.437</td>\n",
              "      <td>positive</td>\n",
              "    </tr>\n",
              "  </tbody>\n",
              "</table>\n",
              "</div>"
            ],
            "text/plain": [
              "                                               Reply  ...  compound\n",
              "0  email straight pissed would like reinforce lis...  ...  negative\n",
              "1  stupid honestly take ONE asymptomatic student ...  ...  negative\n",
              "2                                   Sounds right tbh  ...   neutral\n",
              "3                                     legit happened  ...   neutral\n",
              "4  Im young healthy virus likely wont kill parent...  ...  positive\n",
              "\n",
              "[5 rows x 7 columns]"
            ]
          },
          "metadata": {
            "tags": []
          },
          "execution_count": 846
        }
      ]
    },
    {
      "cell_type": "markdown",
      "metadata": {
        "id": "8hlJILkM2n9l",
        "colab_type": "text"
      },
      "source": [
        "**Sentiment Analysis using the trained model from Kaggle challenge**"
      ]
    },
    {
      "cell_type": "code",
      "metadata": {
        "id": "9xBbxkJTP2Sg",
        "colab_type": "code",
        "colab": {}
      },
      "source": [
        "from sklearn.model_selection import train_test_split\n",
        "from sklearn.feature_extraction.text import CountVectorizer, TfidfVectorizer\n",
        "from sklearn.naive_bayes import MultinomialNB, GaussianNB\n",
        "from sklearn import metrics"
      ],
      "execution_count": 847,
      "outputs": []
    },
    {
      "cell_type": "code",
      "metadata": {
        "id": "84VmWTFqS1ei",
        "colab_type": "code",
        "colab": {}
      },
      "source": [
        "import import_ipynb"
      ],
      "execution_count": 848,
      "outputs": []
    },
    {
      "cell_type": "code",
      "metadata": {
        "id": "b3LohYOKmbkw",
        "colab_type": "code",
        "colab": {}
      },
      "source": [
        "%run realphase2.ipynb"
      ],
      "execution_count": 849,
      "outputs": []
    },
    {
      "cell_type": "code",
      "metadata": {
        "id": "gHbfD9idoZZG",
        "colab_type": "code",
        "colab": {}
      },
      "source": [
        "test_comments = vectorizer.transform(comments.Reply)"
      ],
      "execution_count": 850,
      "outputs": []
    },
    {
      "cell_type": "code",
      "metadata": {
        "id": "czbg9yPfpcei",
        "colab_type": "code",
        "colab": {}
      },
      "source": [
        "predicted = nb.predict(test_comments)"
      ],
      "execution_count": 851,
      "outputs": []
    },
    {
      "cell_type": "code",
      "metadata": {
        "id": "q63SQ--jpj-G",
        "colab_type": "code",
        "colab": {}
      },
      "source": [
        "comments['sentiment'] = predicted"
      ],
      "execution_count": 852,
      "outputs": []
    },
    {
      "cell_type": "code",
      "metadata": {
        "id": "P0rNn1aBqRMY",
        "colab_type": "code",
        "colab": {
          "base_uri": "https://localhost:8080/",
          "height": 204
        },
        "outputId": "21f773cb-c672-4b66-d8e5-b76dc0c6721a"
      },
      "source": [
        "comments.head()"
      ],
      "execution_count": 853,
      "outputs": [
        {
          "output_type": "execute_result",
          "data": {
            "text/html": [
              "<div>\n",
              "<style scoped>\n",
              "    .dataframe tbody tr th:only-of-type {\n",
              "        vertical-align: middle;\n",
              "    }\n",
              "\n",
              "    .dataframe tbody tr th {\n",
              "        vertical-align: top;\n",
              "    }\n",
              "\n",
              "    .dataframe thead th {\n",
              "        text-align: right;\n",
              "    }\n",
              "</style>\n",
              "<table border=\"1\" class=\"dataframe\">\n",
              "  <thead>\n",
              "    <tr style=\"text-align: right;\">\n",
              "      <th></th>\n",
              "      <th>Reply</th>\n",
              "      <th>Time</th>\n",
              "      <th>Key</th>\n",
              "      <th>neg</th>\n",
              "      <th>neu</th>\n",
              "      <th>pos</th>\n",
              "      <th>compound</th>\n",
              "      <th>sentiment</th>\n",
              "    </tr>\n",
              "  </thead>\n",
              "  <tbody>\n",
              "    <tr>\n",
              "      <th>0</th>\n",
              "      <td>email straight pissed would like reinforce lis...</td>\n",
              "      <td>2020-09-14 12:38:11</td>\n",
              "      <td>0.0</td>\n",
              "      <td>0.186</td>\n",
              "      <td>0.629</td>\n",
              "      <td>0.185</td>\n",
              "      <td>negative</td>\n",
              "      <td>neutral</td>\n",
              "    </tr>\n",
              "    <tr>\n",
              "      <th>1</th>\n",
              "      <td>stupid honestly take ONE asymptomatic student ...</td>\n",
              "      <td>2020-09-14 11:44:10</td>\n",
              "      <td>0.0</td>\n",
              "      <td>0.236</td>\n",
              "      <td>0.556</td>\n",
              "      <td>0.208</td>\n",
              "      <td>negative</td>\n",
              "      <td>negative</td>\n",
              "    </tr>\n",
              "    <tr>\n",
              "      <th>2</th>\n",
              "      <td>Sounds right tbh</td>\n",
              "      <td>2020-09-14 10:29:36</td>\n",
              "      <td>0.0</td>\n",
              "      <td>0.000</td>\n",
              "      <td>1.000</td>\n",
              "      <td>0.000</td>\n",
              "      <td>neutral</td>\n",
              "      <td>positive</td>\n",
              "    </tr>\n",
              "    <tr>\n",
              "      <th>3</th>\n",
              "      <td>legit happened</td>\n",
              "      <td>2020-09-14 10:47:36</td>\n",
              "      <td>0.0</td>\n",
              "      <td>0.000</td>\n",
              "      <td>1.000</td>\n",
              "      <td>0.000</td>\n",
              "      <td>neutral</td>\n",
              "      <td>neutral</td>\n",
              "    </tr>\n",
              "    <tr>\n",
              "      <th>4</th>\n",
              "      <td>Im young healthy virus likely wont kill parent...</td>\n",
              "      <td>2020-09-14 12:58:34</td>\n",
              "      <td>0.0</td>\n",
              "      <td>0.185</td>\n",
              "      <td>0.378</td>\n",
              "      <td>0.437</td>\n",
              "      <td>positive</td>\n",
              "      <td>negative</td>\n",
              "    </tr>\n",
              "  </tbody>\n",
              "</table>\n",
              "</div>"
            ],
            "text/plain": [
              "                                               Reply  ... sentiment\n",
              "0  email straight pissed would like reinforce lis...  ...   neutral\n",
              "1  stupid honestly take ONE asymptomatic student ...  ...  negative\n",
              "2                                   Sounds right tbh  ...  positive\n",
              "3                                     legit happened  ...   neutral\n",
              "4  Im young healthy virus likely wont kill parent...  ...  negative\n",
              "\n",
              "[5 rows x 8 columns]"
            ]
          },
          "metadata": {
            "tags": []
          },
          "execution_count": 853
        }
      ]
    },
    {
      "cell_type": "markdown",
      "metadata": {
        "id": "QA1uQDoQ20HP",
        "colab_type": "text"
      },
      "source": [
        "Dropping the results from using nltk Vader to make the data easier to compare"
      ]
    },
    {
      "cell_type": "code",
      "metadata": {
        "id": "hUur7LISt7ww",
        "colab_type": "code",
        "colab": {}
      },
      "source": [
        "comments = comments.drop(['neg','neu','pos','compound'], axis = 1)"
      ],
      "execution_count": 854,
      "outputs": []
    },
    {
      "cell_type": "code",
      "metadata": {
        "id": "xPr5655OuTyk",
        "colab_type": "code",
        "colab": {
          "base_uri": "https://localhost:8080/",
          "height": 204
        },
        "outputId": "52f60d46-c044-41b7-ed95-d49bb52539c2"
      },
      "source": [
        "comments.head()"
      ],
      "execution_count": 855,
      "outputs": [
        {
          "output_type": "execute_result",
          "data": {
            "text/html": [
              "<div>\n",
              "<style scoped>\n",
              "    .dataframe tbody tr th:only-of-type {\n",
              "        vertical-align: middle;\n",
              "    }\n",
              "\n",
              "    .dataframe tbody tr th {\n",
              "        vertical-align: top;\n",
              "    }\n",
              "\n",
              "    .dataframe thead th {\n",
              "        text-align: right;\n",
              "    }\n",
              "</style>\n",
              "<table border=\"1\" class=\"dataframe\">\n",
              "  <thead>\n",
              "    <tr style=\"text-align: right;\">\n",
              "      <th></th>\n",
              "      <th>Reply</th>\n",
              "      <th>Time</th>\n",
              "      <th>Key</th>\n",
              "      <th>sentiment</th>\n",
              "    </tr>\n",
              "  </thead>\n",
              "  <tbody>\n",
              "    <tr>\n",
              "      <th>0</th>\n",
              "      <td>email straight pissed would like reinforce lis...</td>\n",
              "      <td>2020-09-14 12:38:11</td>\n",
              "      <td>0.0</td>\n",
              "      <td>neutral</td>\n",
              "    </tr>\n",
              "    <tr>\n",
              "      <th>1</th>\n",
              "      <td>stupid honestly take ONE asymptomatic student ...</td>\n",
              "      <td>2020-09-14 11:44:10</td>\n",
              "      <td>0.0</td>\n",
              "      <td>negative</td>\n",
              "    </tr>\n",
              "    <tr>\n",
              "      <th>2</th>\n",
              "      <td>Sounds right tbh</td>\n",
              "      <td>2020-09-14 10:29:36</td>\n",
              "      <td>0.0</td>\n",
              "      <td>positive</td>\n",
              "    </tr>\n",
              "    <tr>\n",
              "      <th>3</th>\n",
              "      <td>legit happened</td>\n",
              "      <td>2020-09-14 10:47:36</td>\n",
              "      <td>0.0</td>\n",
              "      <td>neutral</td>\n",
              "    </tr>\n",
              "    <tr>\n",
              "      <th>4</th>\n",
              "      <td>Im young healthy virus likely wont kill parent...</td>\n",
              "      <td>2020-09-14 12:58:34</td>\n",
              "      <td>0.0</td>\n",
              "      <td>negative</td>\n",
              "    </tr>\n",
              "  </tbody>\n",
              "</table>\n",
              "</div>"
            ],
            "text/plain": [
              "                                               Reply  ... sentiment\n",
              "0  email straight pissed would like reinforce lis...  ...   neutral\n",
              "1  stupid honestly take ONE asymptomatic student ...  ...  negative\n",
              "2                                   Sounds right tbh  ...  positive\n",
              "3                                     legit happened  ...   neutral\n",
              "4  Im young healthy virus likely wont kill parent...  ...  negative\n",
              "\n",
              "[5 rows x 4 columns]"
            ]
          },
          "metadata": {
            "tags": []
          },
          "execution_count": 855
        }
      ]
    },
    {
      "cell_type": "markdown",
      "metadata": {
        "id": "PFY4UVgd2_xZ",
        "colab_type": "text"
      },
      "source": [
        "**Comparison between sentiment analysises using the trained model and nltk Vader**"
      ]
    },
    {
      "cell_type": "code",
      "metadata": {
        "id": "2Gi4r5fLmLoP",
        "colab_type": "code",
        "colab": {
          "base_uri": "https://localhost:8080/",
          "height": 89
        },
        "outputId": "044a8f39-1dca-4635-8e42-eb884154b541"
      },
      "source": [
        "comments_vader.compound.value_counts()"
      ],
      "execution_count": 856,
      "outputs": [
        {
          "output_type": "execute_result",
          "data": {
            "text/plain": [
              "positive    251\n",
              "negative    132\n",
              "neutral     127\n",
              "Name: compound, dtype: int64"
            ]
          },
          "metadata": {
            "tags": []
          },
          "execution_count": 856
        }
      ]
    },
    {
      "cell_type": "code",
      "metadata": {
        "id": "vg38D8Ndmczo",
        "colab_type": "code",
        "colab": {
          "base_uri": "https://localhost:8080/",
          "height": 89
        },
        "outputId": "78bb23b5-903a-4294-c347-a6b4cb30f15b"
      },
      "source": [
        "comments.sentiment.value_counts()"
      ],
      "execution_count": 857,
      "outputs": [
        {
          "output_type": "execute_result",
          "data": {
            "text/plain": [
              "neutral     378\n",
              "negative     77\n",
              "positive     55\n",
              "Name: sentiment, dtype: int64"
            ]
          },
          "metadata": {
            "tags": []
          },
          "execution_count": 857
        }
      ]
    },
    {
      "cell_type": "markdown",
      "metadata": {
        "id": "2Ax7ARY43MgY",
        "colab_type": "text"
      },
      "source": [
        "Getting the results to csv files"
      ]
    },
    {
      "cell_type": "code",
      "metadata": {
        "id": "oEHf0SqJsbgI",
        "colab_type": "code",
        "colab": {}
      },
      "source": [
        "comments.to_csv('Comments_using_Kaggle_model.csv')"
      ],
      "execution_count": 858,
      "outputs": []
    },
    {
      "cell_type": "code",
      "metadata": {
        "id": "HrQW-YoNss-r",
        "colab_type": "code",
        "colab": {}
      },
      "source": [
        "comments_vader.to_csv(\"Comments_using_Vader.csv\")"
      ],
      "execution_count": 859,
      "outputs": []
    }
  ]
}